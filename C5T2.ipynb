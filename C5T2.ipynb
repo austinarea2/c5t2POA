{
 "cells": [
  {
   "cell_type": "code",
   "execution_count": 1,
   "metadata": {},
   "outputs": [],
   "source": [
    "# Import Libraries\n",
    "import pandas as pd\n",
    "import matplotlib.pyplot as plt\n",
    "import seaborn as sns \n",
    "import numpy as np\n",
    "%matplotlib inline"
   ]
  },
  {
   "cell_type": "code",
   "execution_count": 2,
   "metadata": {},
   "outputs": [
    {
     "data": {
      "text/html": [
       "<div>\n",
       "<style scoped>\n",
       "    .dataframe tbody tr th:only-of-type {\n",
       "        vertical-align: middle;\n",
       "    }\n",
       "\n",
       "    .dataframe tbody tr th {\n",
       "        vertical-align: top;\n",
       "    }\n",
       "\n",
       "    .dataframe thead th {\n",
       "        text-align: right;\n",
       "    }\n",
       "</style>\n",
       "<table border=\"1\" class=\"dataframe\">\n",
       "  <thead>\n",
       "    <tr style=\"text-align: right;\">\n",
       "      <th></th>\n",
       "      <th>ID</th>\n",
       "      <th>LIMIT_BAL</th>\n",
       "      <th>SEX</th>\n",
       "      <th>EDUCATION</th>\n",
       "      <th>MARRIAGE</th>\n",
       "      <th>AGE</th>\n",
       "      <th>Sept_Status</th>\n",
       "      <th>Aug_Status</th>\n",
       "      <th>July_Status</th>\n",
       "      <th>June_Status</th>\n",
       "      <th>...</th>\n",
       "      <th>June_Bill</th>\n",
       "      <th>May_Bill</th>\n",
       "      <th>April_Bill</th>\n",
       "      <th>Sept_Paid</th>\n",
       "      <th>Aug_Paid</th>\n",
       "      <th>July_Paid</th>\n",
       "      <th>June_Paid</th>\n",
       "      <th>May_Paid</th>\n",
       "      <th>April_Paid</th>\n",
       "      <th>Default</th>\n",
       "    </tr>\n",
       "  </thead>\n",
       "  <tbody>\n",
       "    <tr>\n",
       "      <th>12213</th>\n",
       "      <td>12214</td>\n",
       "      <td>100000</td>\n",
       "      <td>2</td>\n",
       "      <td>1</td>\n",
       "      <td>2</td>\n",
       "      <td>28</td>\n",
       "      <td>-1</td>\n",
       "      <td>-1</td>\n",
       "      <td>-1</td>\n",
       "      <td>-1</td>\n",
       "      <td>...</td>\n",
       "      <td>2300</td>\n",
       "      <td>1132</td>\n",
       "      <td>2072</td>\n",
       "      <td>1033</td>\n",
       "      <td>3667</td>\n",
       "      <td>2300</td>\n",
       "      <td>1132</td>\n",
       "      <td>2072</td>\n",
       "      <td>2692</td>\n",
       "      <td>0</td>\n",
       "    </tr>\n",
       "    <tr>\n",
       "      <th>22943</th>\n",
       "      <td>22944</td>\n",
       "      <td>80000</td>\n",
       "      <td>2</td>\n",
       "      <td>2</td>\n",
       "      <td>1</td>\n",
       "      <td>34</td>\n",
       "      <td>-2</td>\n",
       "      <td>-2</td>\n",
       "      <td>-2</td>\n",
       "      <td>-2</td>\n",
       "      <td>...</td>\n",
       "      <td>0</td>\n",
       "      <td>0</td>\n",
       "      <td>0</td>\n",
       "      <td>0</td>\n",
       "      <td>0</td>\n",
       "      <td>0</td>\n",
       "      <td>0</td>\n",
       "      <td>0</td>\n",
       "      <td>0</td>\n",
       "      <td>0</td>\n",
       "    </tr>\n",
       "    <tr>\n",
       "      <th>1328</th>\n",
       "      <td>1329</td>\n",
       "      <td>140000</td>\n",
       "      <td>1</td>\n",
       "      <td>2</td>\n",
       "      <td>1</td>\n",
       "      <td>41</td>\n",
       "      <td>0</td>\n",
       "      <td>0</td>\n",
       "      <td>0</td>\n",
       "      <td>0</td>\n",
       "      <td>...</td>\n",
       "      <td>114348</td>\n",
       "      <td>111382</td>\n",
       "      <td>112458</td>\n",
       "      <td>5600</td>\n",
       "      <td>5600</td>\n",
       "      <td>4500</td>\n",
       "      <td>4200</td>\n",
       "      <td>4500</td>\n",
       "      <td>4500</td>\n",
       "      <td>0</td>\n",
       "    </tr>\n",
       "  </tbody>\n",
       "</table>\n",
       "<p>3 rows × 25 columns</p>\n",
       "</div>"
      ],
      "text/plain": [
       "          ID  LIMIT_BAL  SEX  EDUCATION  MARRIAGE  AGE  Sept_Status  \\\n",
       "12213  12214     100000    2          1         2   28           -1   \n",
       "22943  22944      80000    2          2         1   34           -2   \n",
       "1328    1329     140000    1          2         1   41            0   \n",
       "\n",
       "       Aug_Status  July_Status  June_Status   ...     June_Bill  May_Bill  \\\n",
       "12213          -1           -1           -1   ...          2300      1132   \n",
       "22943          -2           -2           -2   ...             0         0   \n",
       "1328            0            0            0   ...        114348    111382   \n",
       "\n",
       "       April_Bill  Sept_Paid  Aug_Paid  July_Paid  June_Paid  May_Paid  \\\n",
       "12213        2072       1033      3667       2300       1132      2072   \n",
       "22943           0          0         0          0          0         0   \n",
       "1328       112458       5600      5600       4500       4200      4500   \n",
       "\n",
       "       April_Paid  Default  \n",
       "12213        2692        0  \n",
       "22943           0        0  \n",
       "1328         4500        0  \n",
       "\n",
       "[3 rows x 25 columns]"
      ]
     },
     "execution_count": 2,
     "metadata": {},
     "output_type": "execute_result"
    }
   ],
   "source": [
    "# Import CreditOne Data\n",
    "credit = pd.read_csv('defaultOfCreditCardClients.csv', header =1)\n",
    "credit.sample(3)"
   ]
  },
  {
   "cell_type": "code",
   "execution_count": 3,
   "metadata": {},
   "outputs": [
    {
     "data": {
      "text/html": [
       "<div>\n",
       "<style scoped>\n",
       "    .dataframe tbody tr th:only-of-type {\n",
       "        vertical-align: middle;\n",
       "    }\n",
       "\n",
       "    .dataframe tbody tr th {\n",
       "        vertical-align: top;\n",
       "    }\n",
       "\n",
       "    .dataframe thead th {\n",
       "        text-align: right;\n",
       "    }\n",
       "</style>\n",
       "<table border=\"1\" class=\"dataframe\">\n",
       "  <thead>\n",
       "    <tr style=\"text-align: right;\">\n",
       "      <th></th>\n",
       "      <th>ID</th>\n",
       "      <th>LIMIT_BAL</th>\n",
       "      <th>SEX</th>\n",
       "      <th>EDUCATION</th>\n",
       "      <th>MARRIAGE</th>\n",
       "      <th>AGE</th>\n",
       "      <th>Sept_Status</th>\n",
       "      <th>Aug_Status</th>\n",
       "      <th>July_Status</th>\n",
       "      <th>June_Status</th>\n",
       "      <th>...</th>\n",
       "      <th>June_Bill</th>\n",
       "      <th>May_Bill</th>\n",
       "      <th>April_Bill</th>\n",
       "      <th>Sept_Paid</th>\n",
       "      <th>Aug_Paid</th>\n",
       "      <th>July_Paid</th>\n",
       "      <th>June_Paid</th>\n",
       "      <th>May_Paid</th>\n",
       "      <th>April_Paid</th>\n",
       "      <th>Default</th>\n",
       "    </tr>\n",
       "  </thead>\n",
       "  <tbody>\n",
       "    <tr>\n",
       "      <th>0</th>\n",
       "      <td>1</td>\n",
       "      <td>20000</td>\n",
       "      <td>2</td>\n",
       "      <td>2</td>\n",
       "      <td>1</td>\n",
       "      <td>24</td>\n",
       "      <td>2</td>\n",
       "      <td>2</td>\n",
       "      <td>-1</td>\n",
       "      <td>-1</td>\n",
       "      <td>...</td>\n",
       "      <td>0</td>\n",
       "      <td>0</td>\n",
       "      <td>0</td>\n",
       "      <td>0</td>\n",
       "      <td>689</td>\n",
       "      <td>0</td>\n",
       "      <td>0</td>\n",
       "      <td>0</td>\n",
       "      <td>0</td>\n",
       "      <td>1</td>\n",
       "    </tr>\n",
       "    <tr>\n",
       "      <th>1</th>\n",
       "      <td>2</td>\n",
       "      <td>120000</td>\n",
       "      <td>2</td>\n",
       "      <td>2</td>\n",
       "      <td>2</td>\n",
       "      <td>26</td>\n",
       "      <td>-1</td>\n",
       "      <td>2</td>\n",
       "      <td>0</td>\n",
       "      <td>0</td>\n",
       "      <td>...</td>\n",
       "      <td>3272</td>\n",
       "      <td>3455</td>\n",
       "      <td>3261</td>\n",
       "      <td>0</td>\n",
       "      <td>1000</td>\n",
       "      <td>1000</td>\n",
       "      <td>1000</td>\n",
       "      <td>0</td>\n",
       "      <td>2000</td>\n",
       "      <td>1</td>\n",
       "    </tr>\n",
       "    <tr>\n",
       "      <th>2</th>\n",
       "      <td>3</td>\n",
       "      <td>90000</td>\n",
       "      <td>2</td>\n",
       "      <td>2</td>\n",
       "      <td>2</td>\n",
       "      <td>34</td>\n",
       "      <td>0</td>\n",
       "      <td>0</td>\n",
       "      <td>0</td>\n",
       "      <td>0</td>\n",
       "      <td>...</td>\n",
       "      <td>14331</td>\n",
       "      <td>14948</td>\n",
       "      <td>15549</td>\n",
       "      <td>1518</td>\n",
       "      <td>1500</td>\n",
       "      <td>1000</td>\n",
       "      <td>1000</td>\n",
       "      <td>1000</td>\n",
       "      <td>5000</td>\n",
       "      <td>0</td>\n",
       "    </tr>\n",
       "    <tr>\n",
       "      <th>3</th>\n",
       "      <td>4</td>\n",
       "      <td>50000</td>\n",
       "      <td>2</td>\n",
       "      <td>2</td>\n",
       "      <td>1</td>\n",
       "      <td>37</td>\n",
       "      <td>0</td>\n",
       "      <td>0</td>\n",
       "      <td>0</td>\n",
       "      <td>0</td>\n",
       "      <td>...</td>\n",
       "      <td>28314</td>\n",
       "      <td>28959</td>\n",
       "      <td>29547</td>\n",
       "      <td>2000</td>\n",
       "      <td>2019</td>\n",
       "      <td>1200</td>\n",
       "      <td>1100</td>\n",
       "      <td>1069</td>\n",
       "      <td>1000</td>\n",
       "      <td>0</td>\n",
       "    </tr>\n",
       "    <tr>\n",
       "      <th>4</th>\n",
       "      <td>5</td>\n",
       "      <td>50000</td>\n",
       "      <td>1</td>\n",
       "      <td>2</td>\n",
       "      <td>1</td>\n",
       "      <td>57</td>\n",
       "      <td>-1</td>\n",
       "      <td>0</td>\n",
       "      <td>-1</td>\n",
       "      <td>0</td>\n",
       "      <td>...</td>\n",
       "      <td>20940</td>\n",
       "      <td>19146</td>\n",
       "      <td>19131</td>\n",
       "      <td>2000</td>\n",
       "      <td>36681</td>\n",
       "      <td>10000</td>\n",
       "      <td>9000</td>\n",
       "      <td>689</td>\n",
       "      <td>679</td>\n",
       "      <td>0</td>\n",
       "    </tr>\n",
       "  </tbody>\n",
       "</table>\n",
       "<p>5 rows × 25 columns</p>\n",
       "</div>"
      ],
      "text/plain": [
       "   ID  LIMIT_BAL  SEX  EDUCATION  MARRIAGE  AGE  Sept_Status  Aug_Status  \\\n",
       "0   1      20000    2          2         1   24            2           2   \n",
       "1   2     120000    2          2         2   26           -1           2   \n",
       "2   3      90000    2          2         2   34            0           0   \n",
       "3   4      50000    2          2         1   37            0           0   \n",
       "4   5      50000    1          2         1   57           -1           0   \n",
       "\n",
       "   July_Status  June_Status   ...     June_Bill  May_Bill  April_Bill  \\\n",
       "0           -1           -1   ...             0         0           0   \n",
       "1            0            0   ...          3272      3455        3261   \n",
       "2            0            0   ...         14331     14948       15549   \n",
       "3            0            0   ...         28314     28959       29547   \n",
       "4           -1            0   ...         20940     19146       19131   \n",
       "\n",
       "   Sept_Paid  Aug_Paid  July_Paid  June_Paid  May_Paid  April_Paid  Default  \n",
       "0          0       689          0          0         0           0        1  \n",
       "1          0      1000       1000       1000         0        2000        1  \n",
       "2       1518      1500       1000       1000      1000        5000        0  \n",
       "3       2000      2019       1200       1100      1069        1000        0  \n",
       "4       2000     36681      10000       9000       689         679        0  \n",
       "\n",
       "[5 rows x 25 columns]"
      ]
     },
     "execution_count": 3,
     "metadata": {},
     "output_type": "execute_result"
    }
   ],
   "source": [
    "# Inspect top 5 observations\n",
    "# Updated data description\n",
    "# https://www.kaggle.com/uciml/default-of-credit-card-clients-dataset/discussion/34608\n",
    "credit.head()"
   ]
  },
  {
   "cell_type": "code",
   "execution_count": 4,
   "metadata": {},
   "outputs": [
    {
     "data": {
      "text/html": [
       "<div>\n",
       "<style scoped>\n",
       "    .dataframe tbody tr th:only-of-type {\n",
       "        vertical-align: middle;\n",
       "    }\n",
       "\n",
       "    .dataframe tbody tr th {\n",
       "        vertical-align: top;\n",
       "    }\n",
       "\n",
       "    .dataframe thead th {\n",
       "        text-align: right;\n",
       "    }\n",
       "</style>\n",
       "<table border=\"1\" class=\"dataframe\">\n",
       "  <thead>\n",
       "    <tr style=\"text-align: right;\">\n",
       "      <th></th>\n",
       "      <th>ID</th>\n",
       "      <th>LIMIT_BAL</th>\n",
       "      <th>SEX</th>\n",
       "      <th>EDUCATION</th>\n",
       "      <th>MARRIAGE</th>\n",
       "      <th>AGE</th>\n",
       "      <th>Sept_Status</th>\n",
       "      <th>Aug_Status</th>\n",
       "      <th>July_Status</th>\n",
       "      <th>June_Status</th>\n",
       "      <th>...</th>\n",
       "      <th>June_Bill</th>\n",
       "      <th>May_Bill</th>\n",
       "      <th>April_Bill</th>\n",
       "      <th>Sept_Paid</th>\n",
       "      <th>Aug_Paid</th>\n",
       "      <th>July_Paid</th>\n",
       "      <th>June_Paid</th>\n",
       "      <th>May_Paid</th>\n",
       "      <th>April_Paid</th>\n",
       "      <th>Default</th>\n",
       "    </tr>\n",
       "  </thead>\n",
       "  <tbody>\n",
       "    <tr>\n",
       "      <th>count</th>\n",
       "      <td>30000.000000</td>\n",
       "      <td>30000.000000</td>\n",
       "      <td>30000.000000</td>\n",
       "      <td>30000.000000</td>\n",
       "      <td>30000.000000</td>\n",
       "      <td>30000.000000</td>\n",
       "      <td>30000.000000</td>\n",
       "      <td>30000.000000</td>\n",
       "      <td>30000.000000</td>\n",
       "      <td>30000.000000</td>\n",
       "      <td>...</td>\n",
       "      <td>30000.000000</td>\n",
       "      <td>30000.000000</td>\n",
       "      <td>30000.000000</td>\n",
       "      <td>30000.000000</td>\n",
       "      <td>3.000000e+04</td>\n",
       "      <td>30000.00000</td>\n",
       "      <td>30000.000000</td>\n",
       "      <td>30000.000000</td>\n",
       "      <td>30000.000000</td>\n",
       "      <td>30000.000000</td>\n",
       "    </tr>\n",
       "    <tr>\n",
       "      <th>mean</th>\n",
       "      <td>15000.500000</td>\n",
       "      <td>167484.322667</td>\n",
       "      <td>1.603733</td>\n",
       "      <td>1.853133</td>\n",
       "      <td>1.551867</td>\n",
       "      <td>35.485500</td>\n",
       "      <td>-0.016700</td>\n",
       "      <td>-0.133767</td>\n",
       "      <td>-0.166200</td>\n",
       "      <td>-0.220667</td>\n",
       "      <td>...</td>\n",
       "      <td>43262.948967</td>\n",
       "      <td>40311.400967</td>\n",
       "      <td>38871.760400</td>\n",
       "      <td>5663.580500</td>\n",
       "      <td>5.921163e+03</td>\n",
       "      <td>5225.68150</td>\n",
       "      <td>4826.076867</td>\n",
       "      <td>4799.387633</td>\n",
       "      <td>5215.502567</td>\n",
       "      <td>0.221200</td>\n",
       "    </tr>\n",
       "    <tr>\n",
       "      <th>std</th>\n",
       "      <td>8660.398374</td>\n",
       "      <td>129747.661567</td>\n",
       "      <td>0.489129</td>\n",
       "      <td>0.790349</td>\n",
       "      <td>0.521970</td>\n",
       "      <td>9.217904</td>\n",
       "      <td>1.123802</td>\n",
       "      <td>1.197186</td>\n",
       "      <td>1.196868</td>\n",
       "      <td>1.169139</td>\n",
       "      <td>...</td>\n",
       "      <td>64332.856134</td>\n",
       "      <td>60797.155770</td>\n",
       "      <td>59554.107537</td>\n",
       "      <td>16563.280354</td>\n",
       "      <td>2.304087e+04</td>\n",
       "      <td>17606.96147</td>\n",
       "      <td>15666.159744</td>\n",
       "      <td>15278.305679</td>\n",
       "      <td>17777.465775</td>\n",
       "      <td>0.415062</td>\n",
       "    </tr>\n",
       "    <tr>\n",
       "      <th>min</th>\n",
       "      <td>1.000000</td>\n",
       "      <td>10000.000000</td>\n",
       "      <td>1.000000</td>\n",
       "      <td>0.000000</td>\n",
       "      <td>0.000000</td>\n",
       "      <td>21.000000</td>\n",
       "      <td>-2.000000</td>\n",
       "      <td>-2.000000</td>\n",
       "      <td>-2.000000</td>\n",
       "      <td>-2.000000</td>\n",
       "      <td>...</td>\n",
       "      <td>-170000.000000</td>\n",
       "      <td>-81334.000000</td>\n",
       "      <td>-339603.000000</td>\n",
       "      <td>0.000000</td>\n",
       "      <td>0.000000e+00</td>\n",
       "      <td>0.00000</td>\n",
       "      <td>0.000000</td>\n",
       "      <td>0.000000</td>\n",
       "      <td>0.000000</td>\n",
       "      <td>0.000000</td>\n",
       "    </tr>\n",
       "    <tr>\n",
       "      <th>25%</th>\n",
       "      <td>7500.750000</td>\n",
       "      <td>50000.000000</td>\n",
       "      <td>1.000000</td>\n",
       "      <td>1.000000</td>\n",
       "      <td>1.000000</td>\n",
       "      <td>28.000000</td>\n",
       "      <td>-1.000000</td>\n",
       "      <td>-1.000000</td>\n",
       "      <td>-1.000000</td>\n",
       "      <td>-1.000000</td>\n",
       "      <td>...</td>\n",
       "      <td>2326.750000</td>\n",
       "      <td>1763.000000</td>\n",
       "      <td>1256.000000</td>\n",
       "      <td>1000.000000</td>\n",
       "      <td>8.330000e+02</td>\n",
       "      <td>390.00000</td>\n",
       "      <td>296.000000</td>\n",
       "      <td>252.500000</td>\n",
       "      <td>117.750000</td>\n",
       "      <td>0.000000</td>\n",
       "    </tr>\n",
       "    <tr>\n",
       "      <th>50%</th>\n",
       "      <td>15000.500000</td>\n",
       "      <td>140000.000000</td>\n",
       "      <td>2.000000</td>\n",
       "      <td>2.000000</td>\n",
       "      <td>2.000000</td>\n",
       "      <td>34.000000</td>\n",
       "      <td>0.000000</td>\n",
       "      <td>0.000000</td>\n",
       "      <td>0.000000</td>\n",
       "      <td>0.000000</td>\n",
       "      <td>...</td>\n",
       "      <td>19052.000000</td>\n",
       "      <td>18104.500000</td>\n",
       "      <td>17071.000000</td>\n",
       "      <td>2100.000000</td>\n",
       "      <td>2.009000e+03</td>\n",
       "      <td>1800.00000</td>\n",
       "      <td>1500.000000</td>\n",
       "      <td>1500.000000</td>\n",
       "      <td>1500.000000</td>\n",
       "      <td>0.000000</td>\n",
       "    </tr>\n",
       "    <tr>\n",
       "      <th>75%</th>\n",
       "      <td>22500.250000</td>\n",
       "      <td>240000.000000</td>\n",
       "      <td>2.000000</td>\n",
       "      <td>2.000000</td>\n",
       "      <td>2.000000</td>\n",
       "      <td>41.000000</td>\n",
       "      <td>0.000000</td>\n",
       "      <td>0.000000</td>\n",
       "      <td>0.000000</td>\n",
       "      <td>0.000000</td>\n",
       "      <td>...</td>\n",
       "      <td>54506.000000</td>\n",
       "      <td>50190.500000</td>\n",
       "      <td>49198.250000</td>\n",
       "      <td>5006.000000</td>\n",
       "      <td>5.000000e+03</td>\n",
       "      <td>4505.00000</td>\n",
       "      <td>4013.250000</td>\n",
       "      <td>4031.500000</td>\n",
       "      <td>4000.000000</td>\n",
       "      <td>0.000000</td>\n",
       "    </tr>\n",
       "    <tr>\n",
       "      <th>max</th>\n",
       "      <td>30000.000000</td>\n",
       "      <td>1000000.000000</td>\n",
       "      <td>2.000000</td>\n",
       "      <td>6.000000</td>\n",
       "      <td>3.000000</td>\n",
       "      <td>79.000000</td>\n",
       "      <td>8.000000</td>\n",
       "      <td>8.000000</td>\n",
       "      <td>8.000000</td>\n",
       "      <td>8.000000</td>\n",
       "      <td>...</td>\n",
       "      <td>891586.000000</td>\n",
       "      <td>927171.000000</td>\n",
       "      <td>961664.000000</td>\n",
       "      <td>873552.000000</td>\n",
       "      <td>1.684259e+06</td>\n",
       "      <td>896040.00000</td>\n",
       "      <td>621000.000000</td>\n",
       "      <td>426529.000000</td>\n",
       "      <td>528666.000000</td>\n",
       "      <td>1.000000</td>\n",
       "    </tr>\n",
       "  </tbody>\n",
       "</table>\n",
       "<p>8 rows × 25 columns</p>\n",
       "</div>"
      ],
      "text/plain": [
       "                 ID       LIMIT_BAL           SEX     EDUCATION      MARRIAGE  \\\n",
       "count  30000.000000    30000.000000  30000.000000  30000.000000  30000.000000   \n",
       "mean   15000.500000   167484.322667      1.603733      1.853133      1.551867   \n",
       "std     8660.398374   129747.661567      0.489129      0.790349      0.521970   \n",
       "min        1.000000    10000.000000      1.000000      0.000000      0.000000   \n",
       "25%     7500.750000    50000.000000      1.000000      1.000000      1.000000   \n",
       "50%    15000.500000   140000.000000      2.000000      2.000000      2.000000   \n",
       "75%    22500.250000   240000.000000      2.000000      2.000000      2.000000   \n",
       "max    30000.000000  1000000.000000      2.000000      6.000000      3.000000   \n",
       "\n",
       "                AGE   Sept_Status    Aug_Status   July_Status   June_Status  \\\n",
       "count  30000.000000  30000.000000  30000.000000  30000.000000  30000.000000   \n",
       "mean      35.485500     -0.016700     -0.133767     -0.166200     -0.220667   \n",
       "std        9.217904      1.123802      1.197186      1.196868      1.169139   \n",
       "min       21.000000     -2.000000     -2.000000     -2.000000     -2.000000   \n",
       "25%       28.000000     -1.000000     -1.000000     -1.000000     -1.000000   \n",
       "50%       34.000000      0.000000      0.000000      0.000000      0.000000   \n",
       "75%       41.000000      0.000000      0.000000      0.000000      0.000000   \n",
       "max       79.000000      8.000000      8.000000      8.000000      8.000000   \n",
       "\n",
       "           ...           June_Bill       May_Bill     April_Bill  \\\n",
       "count      ...        30000.000000   30000.000000   30000.000000   \n",
       "mean       ...        43262.948967   40311.400967   38871.760400   \n",
       "std        ...        64332.856134   60797.155770   59554.107537   \n",
       "min        ...      -170000.000000  -81334.000000 -339603.000000   \n",
       "25%        ...         2326.750000    1763.000000    1256.000000   \n",
       "50%        ...        19052.000000   18104.500000   17071.000000   \n",
       "75%        ...        54506.000000   50190.500000   49198.250000   \n",
       "max        ...       891586.000000  927171.000000  961664.000000   \n",
       "\n",
       "           Sept_Paid      Aug_Paid     July_Paid      June_Paid  \\\n",
       "count   30000.000000  3.000000e+04   30000.00000   30000.000000   \n",
       "mean     5663.580500  5.921163e+03    5225.68150    4826.076867   \n",
       "std     16563.280354  2.304087e+04   17606.96147   15666.159744   \n",
       "min         0.000000  0.000000e+00       0.00000       0.000000   \n",
       "25%      1000.000000  8.330000e+02     390.00000     296.000000   \n",
       "50%      2100.000000  2.009000e+03    1800.00000    1500.000000   \n",
       "75%      5006.000000  5.000000e+03    4505.00000    4013.250000   \n",
       "max    873552.000000  1.684259e+06  896040.00000  621000.000000   \n",
       "\n",
       "            May_Paid     April_Paid       Default  \n",
       "count   30000.000000   30000.000000  30000.000000  \n",
       "mean     4799.387633    5215.502567      0.221200  \n",
       "std     15278.305679   17777.465775      0.415062  \n",
       "min         0.000000       0.000000      0.000000  \n",
       "25%       252.500000     117.750000      0.000000  \n",
       "50%      1500.000000    1500.000000      0.000000  \n",
       "75%      4031.500000    4000.000000      0.000000  \n",
       "max    426529.000000  528666.000000      1.000000  \n",
       "\n",
       "[8 rows x 25 columns]"
      ]
     },
     "execution_count": 4,
     "metadata": {},
     "output_type": "execute_result"
    }
   ],
   "source": [
    "# Understand the makeup of the data\n",
    "# Note that EDU and MARRIAGE have values outside of the documentation \n",
    "# Note that Each of the Status attributs need to be remapped from -1 to 9 \n",
    "# If we want to get ALL attributes \n",
    "# https://stackoverflow.com/questions/24524104/pandas-describe-is-not-returning-summary-of-all-columns\n",
    "# unstacked3 = creditRev.describe(include = 'all').unstack\n",
    "# print(unstacked3)\n",
    "\n",
    "credit.describe()"
   ]
  },
  {
   "cell_type": "code",
   "execution_count": 5,
   "metadata": {},
   "outputs": [
    {
     "name": "stdout",
     "output_type": "stream",
     "text": [
      "<class 'pandas.core.frame.DataFrame'>\n",
      "RangeIndex: 30000 entries, 0 to 29999\n",
      "Data columns (total 25 columns):\n",
      "ID              30000 non-null int64\n",
      "LIMIT_BAL       30000 non-null int64\n",
      "SEX             30000 non-null int64\n",
      "EDUCATION       30000 non-null int64\n",
      "MARRIAGE        30000 non-null int64\n",
      "AGE             30000 non-null int64\n",
      "Sept_Status     30000 non-null int64\n",
      "Aug_Status      30000 non-null int64\n",
      "July_Status     30000 non-null int64\n",
      "June_Status     30000 non-null int64\n",
      "May_Status      30000 non-null int64\n",
      "April_Status    30000 non-null int64\n",
      "Sept_Bill       30000 non-null int64\n",
      "Aug_Bill        30000 non-null int64\n",
      "July_Bill       30000 non-null int64\n",
      "June_Bill       30000 non-null int64\n",
      "May_Bill        30000 non-null int64\n",
      "April_Bill      30000 non-null int64\n",
      "Sept_Paid       30000 non-null int64\n",
      "Aug_Paid        30000 non-null int64\n",
      "July_Paid       30000 non-null int64\n",
      "June_Paid       30000 non-null int64\n",
      "May_Paid        30000 non-null int64\n",
      "April_Paid      30000 non-null int64\n",
      "Default         30000 non-null int64\n",
      "dtypes: int64(25)\n",
      "memory usage: 5.7 MB\n"
     ]
    }
   ],
   "source": [
    "# Check Data Types\n",
    "credit.info()"
   ]
  },
  {
   "cell_type": "code",
   "execution_count": 8,
   "metadata": {},
   "outputs": [
    {
     "name": "stdout",
     "output_type": "stream",
     "text": [
      "                    ID  LIMIT_BAL       SEX  EDUCATION  MARRIAGE       AGE  \\\n",
      "ID            1.000000   0.026179  0.018497   0.039177 -0.029079  0.018678   \n",
      "LIMIT_BAL     0.026179   1.000000  0.024755  -0.219161 -0.108139  0.144713   \n",
      "SEX           0.018497   0.024755  1.000000   0.014232 -0.031389 -0.090874   \n",
      "EDUCATION     0.039177  -0.219161  0.014232   1.000000 -0.143464  0.175061   \n",
      "MARRIAGE     -0.029079  -0.108139 -0.031389  -0.143464  1.000000 -0.414170   \n",
      "AGE           0.018678   0.144713 -0.090874   0.175061 -0.414170  1.000000   \n",
      "Sept_Status  -0.030575  -0.271214 -0.057643   0.105364  0.019917 -0.039447   \n",
      "Aug_Status   -0.011215  -0.296382 -0.070771   0.121566  0.024199 -0.050148   \n",
      "July_Status  -0.018494  -0.286123 -0.066096   0.114025  0.032688 -0.053048   \n",
      "June_Status  -0.002735  -0.267460 -0.060173   0.108793  0.033122 -0.049722   \n",
      "May_Status   -0.022199  -0.249411 -0.055064   0.097520  0.035629 -0.053826   \n",
      "April_Status -0.020270  -0.235195 -0.044008   0.082316  0.034345 -0.048773   \n",
      "Sept_Bill     0.019389   0.285430 -0.033642   0.023581 -0.023472  0.056239   \n",
      "Aug_Bill      0.017982   0.278314 -0.031183   0.018749 -0.021602  0.054283   \n",
      "July_Bill     0.024354   0.283236 -0.024563   0.013002 -0.024909  0.053710   \n",
      "June_Bill     0.040351   0.293988 -0.021880  -0.000451 -0.023344  0.051353   \n",
      "May_Bill      0.016705   0.295562 -0.017005  -0.007567 -0.025393  0.049345   \n",
      "April_Bill    0.016730   0.290389 -0.016733  -0.009099 -0.021207  0.047613   \n",
      "Sept_Paid     0.009742   0.195236 -0.000242  -0.037456 -0.005979  0.026147   \n",
      "Aug_Paid      0.008406   0.178408 -0.001391  -0.030038 -0.008093  0.021785   \n",
      "July_Paid     0.039151   0.210167 -0.008597  -0.039943 -0.003541  0.029247   \n",
      "June_Paid     0.007793   0.203242 -0.002229  -0.038218 -0.012659  0.021379   \n",
      "May_Paid      0.000652   0.217202 -0.001667  -0.040358 -0.001205  0.022850   \n",
      "April_Paid    0.003000   0.219595 -0.002766  -0.037200 -0.006641  0.019478   \n",
      "Default      -0.013952  -0.153520 -0.039961   0.028006 -0.024339  0.013890   \n",
      "\n",
      "              Sept_Status  Aug_Status  July_Status  June_Status    ...     \\\n",
      "ID              -0.030575   -0.011215    -0.018494    -0.002735    ...      \n",
      "LIMIT_BAL       -0.271214   -0.296382    -0.286123    -0.267460    ...      \n",
      "SEX             -0.057643   -0.070771    -0.066096    -0.060173    ...      \n",
      "EDUCATION        0.105364    0.121566     0.114025     0.108793    ...      \n",
      "MARRIAGE         0.019917    0.024199     0.032688     0.033122    ...      \n",
      "AGE             -0.039447   -0.050148    -0.053048    -0.049722    ...      \n",
      "Sept_Status      1.000000    0.672164     0.574245     0.538841    ...      \n",
      "Aug_Status       0.672164    1.000000     0.766552     0.662067    ...      \n",
      "July_Status      0.574245    0.766552     1.000000     0.777359    ...      \n",
      "June_Status      0.538841    0.662067     0.777359     1.000000    ...      \n",
      "May_Status       0.509426    0.622780     0.686775     0.819835    ...      \n",
      "April_Status     0.474553    0.575501     0.632684     0.716449    ...      \n",
      "Sept_Bill        0.187068    0.234887     0.208473     0.202812    ...      \n",
      "Aug_Bill         0.189859    0.235257     0.237295     0.225816    ...      \n",
      "July_Bill        0.179785    0.224146     0.227494     0.244983    ...      \n",
      "June_Bill        0.179125    0.222237     0.227202     0.245917    ...      \n",
      "May_Bill         0.180635    0.221348     0.225145     0.242902    ...      \n",
      "April_Bill       0.176980    0.219403     0.222327     0.239154    ...      \n",
      "Sept_Paid       -0.079269   -0.080701     0.001295    -0.009362    ...      \n",
      "Aug_Paid        -0.070101   -0.058990    -0.066793    -0.001944    ...      \n",
      "July_Paid       -0.070561   -0.055901    -0.053311    -0.069235    ...      \n",
      "June_Paid       -0.064005   -0.046858    -0.046067    -0.043461    ...      \n",
      "May_Paid        -0.058190   -0.037093    -0.035863    -0.033590    ...      \n",
      "April_Paid      -0.058673   -0.036500    -0.035861    -0.026565    ...      \n",
      "Default          0.324794    0.263551     0.235253     0.216614    ...      \n",
      "\n",
      "              June_Bill  May_Bill  April_Bill  Sept_Paid  Aug_Paid  July_Paid  \\\n",
      "ID             0.040351  0.016705    0.016730   0.009742  0.008406   0.039151   \n",
      "LIMIT_BAL      0.293988  0.295562    0.290389   0.195236  0.178408   0.210167   \n",
      "SEX           -0.021880 -0.017005   -0.016733  -0.000242 -0.001391  -0.008597   \n",
      "EDUCATION     -0.000451 -0.007567   -0.009099  -0.037456 -0.030038  -0.039943   \n",
      "MARRIAGE      -0.023344 -0.025393   -0.021207  -0.005979 -0.008093  -0.003541   \n",
      "AGE            0.051353  0.049345    0.047613   0.026147  0.021785   0.029247   \n",
      "Sept_Status    0.179125  0.180635    0.176980  -0.079269 -0.070101  -0.070561   \n",
      "Aug_Status     0.222237  0.221348    0.219403  -0.080701 -0.058990  -0.055901   \n",
      "July_Status    0.227202  0.225145    0.222327   0.001295 -0.066793  -0.053311   \n",
      "June_Status    0.245917  0.242902    0.239154  -0.009362 -0.001944  -0.069235   \n",
      "May_Status     0.271915  0.269783    0.262509  -0.006089 -0.003191   0.009062   \n",
      "April_Status   0.266356  0.290894    0.285091  -0.001496 -0.005223   0.005834   \n",
      "Sept_Bill      0.860272  0.829779    0.802650   0.140277  0.099355   0.156887   \n",
      "Aug_Bill       0.892482  0.859778    0.831594   0.280365  0.100851   0.150718   \n",
      "July_Bill      0.923969  0.883910    0.853320   0.244335  0.316936   0.130011   \n",
      "June_Bill      1.000000  0.940134    0.900941   0.233012  0.207564   0.300023   \n",
      "May_Bill       0.940134  1.000000    0.946197   0.217031  0.181246   0.252305   \n",
      "April_Bill     0.900941  0.946197    1.000000   0.199965  0.172663   0.233770   \n",
      "Sept_Paid      0.233012  0.217031    0.199965   1.000000  0.285576   0.252191   \n",
      "Aug_Paid       0.207564  0.181246    0.172663   0.285576  1.000000   0.244770   \n",
      "July_Paid      0.300023  0.252305    0.233770   0.252191  0.244770   1.000000   \n",
      "June_Paid      0.130191  0.293118    0.250237   0.199558  0.180107   0.216325   \n",
      "May_Paid       0.160433  0.141574    0.307729   0.148459  0.180908   0.159214   \n",
      "April_Paid     0.177637  0.164184    0.115494   0.185735  0.157634   0.162740   \n",
      "Default       -0.010156 -0.006760   -0.005372  -0.072929 -0.058579  -0.056250   \n",
      "\n",
      "              June_Paid  May_Paid  April_Paid   Default  \n",
      "ID             0.007793  0.000652    0.003000 -0.013952  \n",
      "LIMIT_BAL      0.203242  0.217202    0.219595 -0.153520  \n",
      "SEX           -0.002229 -0.001667   -0.002766 -0.039961  \n",
      "EDUCATION     -0.038218 -0.040358   -0.037200  0.028006  \n",
      "MARRIAGE      -0.012659 -0.001205   -0.006641 -0.024339  \n",
      "AGE            0.021379  0.022850    0.019478  0.013890  \n",
      "Sept_Status   -0.064005 -0.058190   -0.058673  0.324794  \n",
      "Aug_Status    -0.046858 -0.037093   -0.036500  0.263551  \n",
      "July_Status   -0.046067 -0.035863   -0.035861  0.235253  \n",
      "June_Status   -0.043461 -0.033590   -0.026565  0.216614  \n",
      "May_Status    -0.058299 -0.033337   -0.023027  0.204149  \n",
      "April_Status   0.019018 -0.046434   -0.025299  0.186866  \n",
      "Sept_Bill      0.158303  0.167026    0.179341 -0.019644  \n",
      "Aug_Bill       0.147398  0.157957    0.174256 -0.014193  \n",
      "July_Bill      0.143405  0.179712    0.182326 -0.014076  \n",
      "June_Bill      0.130191  0.160433    0.177637 -0.010156  \n",
      "May_Bill       0.293118  0.141574    0.164184 -0.006760  \n",
      "April_Bill     0.250237  0.307729    0.115494 -0.005372  \n",
      "Sept_Paid      0.199558  0.148459    0.185735 -0.072929  \n",
      "Aug_Paid       0.180107  0.180908    0.157634 -0.058579  \n",
      "July_Paid      0.216325  0.159214    0.162740 -0.056250  \n",
      "June_Paid      1.000000  0.151830    0.157834 -0.056827  \n",
      "May_Paid       0.151830  1.000000    0.154896 -0.055124  \n",
      "April_Paid     0.157834  0.154896    1.000000 -0.053183  \n",
      "Default       -0.056827 -0.055124   -0.053183  1.000000  \n",
      "\n",
      "[25 rows x 25 columns]\n"
     ]
    }
   ],
   "source": [
    "# Correlation - investigate iloc http://pandas.pydata.org/pandas-docs/version/0.17.0/generated/pandas.DataFrame.iloc.html\n",
    "corrMat = credit.corr()\n",
    "print(corrMat)"
   ]
  },
  {
   "cell_type": "code",
   "execution_count": 18,
   "metadata": {},
   "outputs": [
    {
     "name": "stdout",
     "output_type": "stream",
     "text": [
      "              May_Status  April_Status  Sept_Bill  Aug_Bill  July_Bill\n",
      "ID             -0.022199     -0.020270   0.019389  0.017982   0.024354\n",
      "LIMIT_BAL      -0.249411     -0.235195   0.285430  0.278314   0.283236\n",
      "SEX            -0.055064     -0.044008  -0.033642 -0.031183  -0.024563\n",
      "EDUCATION       0.097520      0.082316   0.023581  0.018749   0.013002\n",
      "MARRIAGE        0.035629      0.034345  -0.023472 -0.021602  -0.024909\n",
      "AGE            -0.053826     -0.048773   0.056239  0.054283   0.053710\n",
      "Sept_Status     0.509426      0.474553   0.187068  0.189859   0.179785\n",
      "Aug_Status      0.622780      0.575501   0.234887  0.235257   0.224146\n",
      "July_Status     0.686775      0.632684   0.208473  0.237295   0.227494\n",
      "June_Status     0.819835      0.716449   0.202812  0.225816   0.244983\n",
      "May_Status      1.000000      0.816900   0.206684  0.226913   0.243335\n",
      "April_Status    0.816900      1.000000   0.207373  0.226924   0.241181\n",
      "Sept_Bill       0.206684      0.207373   1.000000  0.951484   0.892279\n",
      "Aug_Bill        0.226913      0.226924   0.951484  1.000000   0.928326\n",
      "July_Bill       0.243335      0.241181   0.892279  0.928326   1.000000\n",
      "June_Bill       0.271915      0.266356   0.860272  0.892482   0.923969\n",
      "May_Bill        0.269783      0.290894   0.829779  0.859778   0.883910\n",
      "April_Bill      0.262509      0.285091   0.802650  0.831594   0.853320\n",
      "Sept_Paid      -0.006089     -0.001496   0.140277  0.280365   0.244335\n",
      "Aug_Paid       -0.003191     -0.005223   0.099355  0.100851   0.316936\n",
      "July_Paid       0.009062      0.005834   0.156887  0.150718   0.130011\n",
      "June_Paid      -0.058299      0.019018   0.158303  0.147398   0.143405\n",
      "May_Paid       -0.033337     -0.046434   0.167026  0.157957   0.179712\n",
      "April_Paid     -0.023027     -0.025299   0.179341  0.174256   0.182326\n",
      "Default         0.204149      0.186866  -0.019644 -0.014193  -0.014076\n"
     ]
    }
   ],
   "source": [
    "# Let's use iloc to print misssing features in corrMat\n",
    "# https://www.shanelynn.ie/select-pandas-dataframe-rows-and-columns-using-iloc-loc-and-ix/\n",
    "# https://medium.com/dunder-data/selecting-subsets-of-data-in-pandas-6fcd0170be9c\n",
    "print(corrMat.iloc[ : , 10:15])"
   ]
  },
  {
   "cell_type": "code",
   "execution_count": 24,
   "metadata": {},
   "outputs": [
    {
     "name": "stdout",
     "output_type": "stream",
     "text": [
      "             ... x 25 columns]\n"
     ]
    }
   ],
   "source": [
    "# Let's try to print all by changing numpy's print settings\n",
    "# https://stackoverflow.com/questions/1987694/how-to-print-the-full-numpy-array\n",
    "import reprlib\n",
    "print(reprlib.repr(corrMat))"
   ]
  },
  {
   "cell_type": "code",
   "execution_count": 6,
   "metadata": {},
   "outputs": [
    {
     "data": {
      "text/plain": [
       "Sept_Status\n",
       "-2     2759\n",
       "-1     5686\n",
       " 0    14737\n",
       " 1     3688\n",
       " 2     2667\n",
       " 3      322\n",
       " 4       76\n",
       " 5       26\n",
       " 6       11\n",
       " 7        9\n",
       " 8       19\n",
       "Name: Sept_Status, dtype: int64"
      ]
     },
     "execution_count": 6,
     "metadata": {},
     "output_type": "execute_result"
    }
   ],
   "source": [
    "credit.groupby('Sept_Status')['Sept_Status'].count()"
   ]
  },
  {
   "cell_type": "code",
   "execution_count": 8,
   "metadata": {},
   "outputs": [
    {
     "data": {
      "text/plain": [
       "SEX\n",
       "1    11888\n",
       "2    18112\n",
       "Name: SEX, dtype: int64"
      ]
     },
     "execution_count": 8,
     "metadata": {},
     "output_type": "execute_result"
    }
   ],
   "source": [
    "credit.groupby('SEX')['SEX'].count()"
   ]
  },
  {
   "cell_type": "code",
   "execution_count": 9,
   "metadata": {},
   "outputs": [
    {
     "name": "stdout",
     "output_type": "stream",
     "text": [
      "<class 'pandas.core.frame.DataFrame'>\n",
      "RangeIndex: 30000 entries, 0 to 29999\n",
      "Data columns (total 25 columns):\n",
      "ID              0 non-null object\n",
      "LIMIT_BAL       30000 non-null int64\n",
      "SEX             30000 non-null int64\n",
      "EDUCATION       30000 non-null int64\n",
      "MARRIAGE        30000 non-null int64\n",
      "AGE             30000 non-null int64\n",
      "Sept_Status     30000 non-null int64\n",
      "Aug_Status      30000 non-null int64\n",
      "July_Status     30000 non-null int64\n",
      "June_Status     30000 non-null int64\n",
      "May_Status      30000 non-null int64\n",
      "April_Status    30000 non-null int64\n",
      "Sept_Bill       30000 non-null int64\n",
      "Aug_Bill        30000 non-null int64\n",
      "July_Bill       30000 non-null int64\n",
      "June_Bill       30000 non-null int64\n",
      "May_Bill        30000 non-null int64\n",
      "April_Bill      30000 non-null int64\n",
      "Sept_Paid       30000 non-null int64\n",
      "Aug_Paid        30000 non-null int64\n",
      "July_Paid       30000 non-null int64\n",
      "June_Paid       30000 non-null int64\n",
      "May_Paid        30000 non-null int64\n",
      "April_Paid      30000 non-null int64\n",
      "Default         30000 non-null int64\n",
      "dtypes: int64(24), object(1)\n",
      "memory usage: 5.7+ MB\n"
     ]
    }
   ],
   "source": [
    "# Null ID https://www.pythoncentral.io/python-null-equivalent-none/\n",
    "credit.ID = None\n",
    "credit.info()"
   ]
  },
  {
   "cell_type": "code",
   "execution_count": 10,
   "metadata": {
    "scrolled": false
   },
   "outputs": [
    {
     "data": {
      "text/plain": [
       "EDUCATION\n",
       "0       14\n",
       "1    10585\n",
       "2    14030\n",
       "3     4917\n",
       "4      123\n",
       "5      280\n",
       "6       51\n",
       "Name: EDUCATION, dtype: int64"
      ]
     },
     "execution_count": 10,
     "metadata": {},
     "output_type": "execute_result"
    }
   ],
   "source": [
    "# Get counts of education levels\n",
    "credit.groupby('EDUCATION')['EDUCATION'].count()"
   ]
  },
  {
   "cell_type": "code",
   "execution_count": 11,
   "metadata": {},
   "outputs": [],
   "source": [
    "# From the data documentation EDUCATION can only have the values 1, 2, 3, and 4. \n",
    "# Let's drop all ovbservations that contain 0, 5 and 6 for EDU. \n",
    "# Will need to re-output csv file\n",
    "# credit = credit[credit.EDUCATION != 0]\n",
    "# credit = credit[credit.EDUCATION != 5]\n",
    "# credit = credit[credit.EDUCATION != 6]"
   ]
  },
  {
   "cell_type": "code",
   "execution_count": 12,
   "metadata": {},
   "outputs": [
    {
     "data": {
      "text/plain": [
       "EDUCATION\n",
       "0       14\n",
       "1    10585\n",
       "2    14030\n",
       "3     4917\n",
       "4      123\n",
       "5      280\n",
       "6       51\n",
       "Name: EDUCATION, dtype: int64"
      ]
     },
     "execution_count": 12,
     "metadata": {},
     "output_type": "execute_result"
    }
   ],
   "source": [
    "# Get counts of education levels to confirm delete\n",
    "credit.groupby('EDUCATION')['EDUCATION'].count()"
   ]
  },
  {
   "cell_type": "code",
   "execution_count": 13,
   "metadata": {},
   "outputs": [
    {
     "name": "stdout",
     "output_type": "stream",
     "text": [
      "<class 'pandas.core.frame.DataFrame'>\n",
      "RangeIndex: 30000 entries, 0 to 29999\n",
      "Data columns (total 25 columns):\n",
      "ID              0 non-null object\n",
      "LIMIT_BAL       30000 non-null int64\n",
      "SEX             30000 non-null int64\n",
      "EDUCATION       30000 non-null int64\n",
      "MARRIAGE        30000 non-null int64\n",
      "AGE             30000 non-null int64\n",
      "Sept_Status     30000 non-null int64\n",
      "Aug_Status      30000 non-null int64\n",
      "July_Status     30000 non-null int64\n",
      "June_Status     30000 non-null int64\n",
      "May_Status      30000 non-null int64\n",
      "April_Status    30000 non-null int64\n",
      "Sept_Bill       30000 non-null int64\n",
      "Aug_Bill        30000 non-null int64\n",
      "July_Bill       30000 non-null int64\n",
      "June_Bill       30000 non-null int64\n",
      "May_Bill        30000 non-null int64\n",
      "April_Bill      30000 non-null int64\n",
      "Sept_Paid       30000 non-null int64\n",
      "Aug_Paid        30000 non-null int64\n",
      "July_Paid       30000 non-null int64\n",
      "June_Paid       30000 non-null int64\n",
      "May_Paid        30000 non-null int64\n",
      "April_Paid      30000 non-null int64\n",
      "Default         30000 non-null int64\n",
      "dtypes: int64(24), object(1)\n",
      "memory usage: 5.7+ MB\n"
     ]
    }
   ],
   "source": [
    "# Check number of observations\n",
    "credit.info()"
   ]
  },
  {
   "cell_type": "code",
   "execution_count": 14,
   "metadata": {},
   "outputs": [
    {
     "data": {
      "text/plain": [
       "MARRIAGE\n",
       "0       54\n",
       "1    13659\n",
       "2    15964\n",
       "3      323\n",
       "Name: MARRIAGE, dtype: int64"
      ]
     },
     "execution_count": 14,
     "metadata": {},
     "output_type": "execute_result"
    }
   ],
   "source": [
    "# Get counts of MARRIAGE levels\n",
    "credit.groupby('MARRIAGE')['MARRIAGE'].count()"
   ]
  },
  {
   "cell_type": "code",
   "execution_count": 15,
   "metadata": {},
   "outputs": [],
   "source": [
    "# From the data documentation MARRIAGE can only have the values 1, 2, 3.  \n",
    "# Let's drop all ovbservations that contain 0 for MARRIAGE. \n",
    "# Will need to re-output csv file\n",
    "credit = credit[credit.MARRIAGE != 0]"
   ]
  },
  {
   "cell_type": "code",
   "execution_count": 16,
   "metadata": {},
   "outputs": [
    {
     "data": {
      "text/plain": [
       "MARRIAGE\n",
       "1    13659\n",
       "2    15964\n",
       "3      323\n",
       "Name: MARRIAGE, dtype: int64"
      ]
     },
     "execution_count": 16,
     "metadata": {},
     "output_type": "execute_result"
    }
   ],
   "source": [
    "# Get counts of MARRIAGE levels to confirm delete\n",
    "credit.groupby('MARRIAGE')['MARRIAGE'].count()"
   ]
  },
  {
   "cell_type": "code",
   "execution_count": 34,
   "metadata": {},
   "outputs": [
    {
     "name": "stdout",
     "output_type": "stream",
     "text": [
      "<class 'pandas.core.frame.DataFrame'>\n",
      "Int64Index: 29946 entries, 0 to 29999\n",
      "Data columns (total 26 columns):\n",
      "ID              0 non-null object\n",
      "LIMIT_BAL       29946 non-null int64\n",
      "SEX             29946 non-null int64\n",
      "EDUCATION       29946 non-null int64\n",
      "MARRIAGE        29946 non-null int64\n",
      "AGE             29946 non-null int64\n",
      "Sept_Status     29946 non-null int64\n",
      "Aug_Status      29946 non-null int64\n",
      "July_Status     29946 non-null int64\n",
      "June_Status     29946 non-null int64\n",
      "May_Status      29946 non-null int64\n",
      "April_Status    29946 non-null int64\n",
      "Sept_Bill       29946 non-null int64\n",
      "Aug_Bill        29946 non-null int64\n",
      "July_Bill       29946 non-null int64\n",
      "June_Bill       29946 non-null int64\n",
      "May_Bill        29946 non-null int64\n",
      "April_Bill      29946 non-null int64\n",
      "Sept_Paid       29946 non-null int64\n",
      "Aug_Paid        29946 non-null int64\n",
      "July_Paid       29946 non-null int64\n",
      "June_Paid       29946 non-null int64\n",
      "May_Paid        29946 non-null int64\n",
      "April_Paid      29946 non-null int64\n",
      "Default         29946 non-null int64\n",
      "AGE_BIN         29946 non-null category\n",
      "dtypes: category(1), int64(24), object(1)\n",
      "memory usage: 7.2+ MB\n"
     ]
    }
   ],
   "source": [
    "# Check number of observations\n",
    "credit.info()"
   ]
  },
  {
   "cell_type": "code",
   "execution_count": 18,
   "metadata": {},
   "outputs": [],
   "source": [
    "# Remap values for the Status attributes\n",
    "# https://stackoverflow.com/questions/12152716/python-pandas-equivalent-for-replace\n",
    "# http://pandas.pydata.org/pandas-docs/version/0.17.0/indexing.html#indexing-integer\n",
    "# https://www.shanelynn.ie/select-pandas-dataframe-rows-and-columns-using-iloc-loc-and-ix/\n",
    "\n",
    "# credit.iloc[ : , 6:12] = credit.iloc[ : , 6:12].replace({-2: -1, -1: 1, 1: 2, 2: 3, 3: 4, 4: 5, 5: 6, 6: 7, 7: 8, 8: 9})"
   ]
  },
  {
   "cell_type": "code",
   "execution_count": 35,
   "metadata": {},
   "outputs": [
    {
     "data": {
      "text/html": [
       "<div>\n",
       "<style scoped>\n",
       "    .dataframe tbody tr th:only-of-type {\n",
       "        vertical-align: middle;\n",
       "    }\n",
       "\n",
       "    .dataframe tbody tr th {\n",
       "        vertical-align: top;\n",
       "    }\n",
       "\n",
       "    .dataframe thead th {\n",
       "        text-align: right;\n",
       "    }\n",
       "</style>\n",
       "<table border=\"1\" class=\"dataframe\">\n",
       "  <thead>\n",
       "    <tr style=\"text-align: right;\">\n",
       "      <th></th>\n",
       "      <th>LIMIT_BAL</th>\n",
       "      <th>SEX</th>\n",
       "      <th>EDUCATION</th>\n",
       "      <th>MARRIAGE</th>\n",
       "      <th>AGE</th>\n",
       "      <th>Sept_Status</th>\n",
       "      <th>Aug_Status</th>\n",
       "      <th>July_Status</th>\n",
       "      <th>June_Status</th>\n",
       "      <th>May_Status</th>\n",
       "      <th>...</th>\n",
       "      <th>June_Bill</th>\n",
       "      <th>May_Bill</th>\n",
       "      <th>April_Bill</th>\n",
       "      <th>Sept_Paid</th>\n",
       "      <th>Aug_Paid</th>\n",
       "      <th>July_Paid</th>\n",
       "      <th>June_Paid</th>\n",
       "      <th>May_Paid</th>\n",
       "      <th>April_Paid</th>\n",
       "      <th>Default</th>\n",
       "    </tr>\n",
       "  </thead>\n",
       "  <tbody>\n",
       "    <tr>\n",
       "      <th>count</th>\n",
       "      <td>29946.000000</td>\n",
       "      <td>29946.000000</td>\n",
       "      <td>29946.000000</td>\n",
       "      <td>29946.000000</td>\n",
       "      <td>29946.000000</td>\n",
       "      <td>29946.000000</td>\n",
       "      <td>29946.000000</td>\n",
       "      <td>29946.000000</td>\n",
       "      <td>29946.000000</td>\n",
       "      <td>29946.000000</td>\n",
       "      <td>...</td>\n",
       "      <td>29946.000000</td>\n",
       "      <td>29946.000000</td>\n",
       "      <td>29946.000000</td>\n",
       "      <td>29946.000000</td>\n",
       "      <td>2.994600e+04</td>\n",
       "      <td>29946.000000</td>\n",
       "      <td>29946.000000</td>\n",
       "      <td>29946.000000</td>\n",
       "      <td>29946.000000</td>\n",
       "      <td>29946.000000</td>\n",
       "    </tr>\n",
       "    <tr>\n",
       "      <th>mean</th>\n",
       "      <td>167546.573165</td>\n",
       "      <td>1.603486</td>\n",
       "      <td>1.851533</td>\n",
       "      <td>1.554665</td>\n",
       "      <td>35.481300</td>\n",
       "      <td>-0.016430</td>\n",
       "      <td>-0.133641</td>\n",
       "      <td>-0.166132</td>\n",
       "      <td>-0.220397</td>\n",
       "      <td>-0.265945</td>\n",
       "      <td>...</td>\n",
       "      <td>43306.688005</td>\n",
       "      <td>40352.140252</td>\n",
       "      <td>38911.533393</td>\n",
       "      <td>5659.736826</td>\n",
       "      <td>5.926824e+03</td>\n",
       "      <td>5227.841314</td>\n",
       "      <td>4829.614573</td>\n",
       "      <td>4804.211080</td>\n",
       "      <td>5220.871035</td>\n",
       "      <td>0.221432</td>\n",
       "    </tr>\n",
       "    <tr>\n",
       "      <th>std</th>\n",
       "      <td>129807.831678</td>\n",
       "      <td>0.489182</td>\n",
       "      <td>0.789773</td>\n",
       "      <td>0.518259</td>\n",
       "      <td>9.218413</td>\n",
       "      <td>1.123467</td>\n",
       "      <td>1.196968</td>\n",
       "      <td>1.196428</td>\n",
       "      <td>1.168882</td>\n",
       "      <td>1.133029</td>\n",
       "      <td>...</td>\n",
       "      <td>64374.889734</td>\n",
       "      <td>60836.076370</td>\n",
       "      <td>59592.166712</td>\n",
       "      <td>16552.642231</td>\n",
       "      <td>2.306022e+04</td>\n",
       "      <td>17618.433069</td>\n",
       "      <td>15677.788192</td>\n",
       "      <td>15290.655486</td>\n",
       "      <td>17791.413753</td>\n",
       "      <td>0.415218</td>\n",
       "    </tr>\n",
       "    <tr>\n",
       "      <th>min</th>\n",
       "      <td>10000.000000</td>\n",
       "      <td>1.000000</td>\n",
       "      <td>0.000000</td>\n",
       "      <td>1.000000</td>\n",
       "      <td>21.000000</td>\n",
       "      <td>-2.000000</td>\n",
       "      <td>-2.000000</td>\n",
       "      <td>-2.000000</td>\n",
       "      <td>-2.000000</td>\n",
       "      <td>-2.000000</td>\n",
       "      <td>...</td>\n",
       "      <td>-170000.000000</td>\n",
       "      <td>-81334.000000</td>\n",
       "      <td>-339603.000000</td>\n",
       "      <td>0.000000</td>\n",
       "      <td>0.000000e+00</td>\n",
       "      <td>0.000000</td>\n",
       "      <td>0.000000</td>\n",
       "      <td>0.000000</td>\n",
       "      <td>0.000000</td>\n",
       "      <td>0.000000</td>\n",
       "    </tr>\n",
       "    <tr>\n",
       "      <th>25%</th>\n",
       "      <td>50000.000000</td>\n",
       "      <td>1.000000</td>\n",
       "      <td>1.000000</td>\n",
       "      <td>1.000000</td>\n",
       "      <td>28.000000</td>\n",
       "      <td>-1.000000</td>\n",
       "      <td>-1.000000</td>\n",
       "      <td>-1.000000</td>\n",
       "      <td>-1.000000</td>\n",
       "      <td>-1.000000</td>\n",
       "      <td>...</td>\n",
       "      <td>2335.000000</td>\n",
       "      <td>1770.250000</td>\n",
       "      <td>1261.000000</td>\n",
       "      <td>1000.000000</td>\n",
       "      <td>8.360000e+02</td>\n",
       "      <td>390.000000</td>\n",
       "      <td>298.000000</td>\n",
       "      <td>255.250000</td>\n",
       "      <td>122.000000</td>\n",
       "      <td>0.000000</td>\n",
       "    </tr>\n",
       "    <tr>\n",
       "      <th>50%</th>\n",
       "      <td>140000.000000</td>\n",
       "      <td>2.000000</td>\n",
       "      <td>2.000000</td>\n",
       "      <td>2.000000</td>\n",
       "      <td>34.000000</td>\n",
       "      <td>0.000000</td>\n",
       "      <td>0.000000</td>\n",
       "      <td>0.000000</td>\n",
       "      <td>0.000000</td>\n",
       "      <td>0.000000</td>\n",
       "      <td>...</td>\n",
       "      <td>19066.000000</td>\n",
       "      <td>18121.000000</td>\n",
       "      <td>17098.500000</td>\n",
       "      <td>2100.000000</td>\n",
       "      <td>2.010000e+03</td>\n",
       "      <td>1800.000000</td>\n",
       "      <td>1500.000000</td>\n",
       "      <td>1500.000000</td>\n",
       "      <td>1500.000000</td>\n",
       "      <td>0.000000</td>\n",
       "    </tr>\n",
       "    <tr>\n",
       "      <th>75%</th>\n",
       "      <td>240000.000000</td>\n",
       "      <td>2.000000</td>\n",
       "      <td>2.000000</td>\n",
       "      <td>2.000000</td>\n",
       "      <td>41.000000</td>\n",
       "      <td>0.000000</td>\n",
       "      <td>0.000000</td>\n",
       "      <td>0.000000</td>\n",
       "      <td>0.000000</td>\n",
       "      <td>0.000000</td>\n",
       "      <td>...</td>\n",
       "      <td>54601.750000</td>\n",
       "      <td>50244.750000</td>\n",
       "      <td>49248.500000</td>\n",
       "      <td>5007.000000</td>\n",
       "      <td>5.000000e+03</td>\n",
       "      <td>4511.500000</td>\n",
       "      <td>4015.000000</td>\n",
       "      <td>4040.750000</td>\n",
       "      <td>4000.000000</td>\n",
       "      <td>0.000000</td>\n",
       "    </tr>\n",
       "    <tr>\n",
       "      <th>max</th>\n",
       "      <td>1000000.000000</td>\n",
       "      <td>2.000000</td>\n",
       "      <td>6.000000</td>\n",
       "      <td>3.000000</td>\n",
       "      <td>79.000000</td>\n",
       "      <td>8.000000</td>\n",
       "      <td>8.000000</td>\n",
       "      <td>8.000000</td>\n",
       "      <td>8.000000</td>\n",
       "      <td>8.000000</td>\n",
       "      <td>...</td>\n",
       "      <td>891586.000000</td>\n",
       "      <td>927171.000000</td>\n",
       "      <td>961664.000000</td>\n",
       "      <td>873552.000000</td>\n",
       "      <td>1.684259e+06</td>\n",
       "      <td>896040.000000</td>\n",
       "      <td>621000.000000</td>\n",
       "      <td>426529.000000</td>\n",
       "      <td>528666.000000</td>\n",
       "      <td>1.000000</td>\n",
       "    </tr>\n",
       "  </tbody>\n",
       "</table>\n",
       "<p>8 rows × 24 columns</p>\n",
       "</div>"
      ],
      "text/plain": [
       "            LIMIT_BAL           SEX     EDUCATION      MARRIAGE           AGE  \\\n",
       "count    29946.000000  29946.000000  29946.000000  29946.000000  29946.000000   \n",
       "mean    167546.573165      1.603486      1.851533      1.554665     35.481300   \n",
       "std     129807.831678      0.489182      0.789773      0.518259      9.218413   \n",
       "min      10000.000000      1.000000      0.000000      1.000000     21.000000   \n",
       "25%      50000.000000      1.000000      1.000000      1.000000     28.000000   \n",
       "50%     140000.000000      2.000000      2.000000      2.000000     34.000000   \n",
       "75%     240000.000000      2.000000      2.000000      2.000000     41.000000   \n",
       "max    1000000.000000      2.000000      6.000000      3.000000     79.000000   \n",
       "\n",
       "        Sept_Status    Aug_Status   July_Status   June_Status    May_Status  \\\n",
       "count  29946.000000  29946.000000  29946.000000  29946.000000  29946.000000   \n",
       "mean      -0.016430     -0.133641     -0.166132     -0.220397     -0.265945   \n",
       "std        1.123467      1.196968      1.196428      1.168882      1.133029   \n",
       "min       -2.000000     -2.000000     -2.000000     -2.000000     -2.000000   \n",
       "25%       -1.000000     -1.000000     -1.000000     -1.000000     -1.000000   \n",
       "50%        0.000000      0.000000      0.000000      0.000000      0.000000   \n",
       "75%        0.000000      0.000000      0.000000      0.000000      0.000000   \n",
       "max        8.000000      8.000000      8.000000      8.000000      8.000000   \n",
       "\n",
       "           ...           June_Bill       May_Bill     April_Bill  \\\n",
       "count      ...        29946.000000   29946.000000   29946.000000   \n",
       "mean       ...        43306.688005   40352.140252   38911.533393   \n",
       "std        ...        64374.889734   60836.076370   59592.166712   \n",
       "min        ...      -170000.000000  -81334.000000 -339603.000000   \n",
       "25%        ...         2335.000000    1770.250000    1261.000000   \n",
       "50%        ...        19066.000000   18121.000000   17098.500000   \n",
       "75%        ...        54601.750000   50244.750000   49248.500000   \n",
       "max        ...       891586.000000  927171.000000  961664.000000   \n",
       "\n",
       "           Sept_Paid      Aug_Paid      July_Paid      June_Paid  \\\n",
       "count   29946.000000  2.994600e+04   29946.000000   29946.000000   \n",
       "mean     5659.736826  5.926824e+03    5227.841314    4829.614573   \n",
       "std     16552.642231  2.306022e+04   17618.433069   15677.788192   \n",
       "min         0.000000  0.000000e+00       0.000000       0.000000   \n",
       "25%      1000.000000  8.360000e+02     390.000000     298.000000   \n",
       "50%      2100.000000  2.010000e+03    1800.000000    1500.000000   \n",
       "75%      5007.000000  5.000000e+03    4511.500000    4015.000000   \n",
       "max    873552.000000  1.684259e+06  896040.000000  621000.000000   \n",
       "\n",
       "            May_Paid     April_Paid       Default  \n",
       "count   29946.000000   29946.000000  29946.000000  \n",
       "mean     4804.211080    5220.871035      0.221432  \n",
       "std     15290.655486   17791.413753      0.415218  \n",
       "min         0.000000       0.000000      0.000000  \n",
       "25%       255.250000     122.000000      0.000000  \n",
       "50%      1500.000000    1500.000000      0.000000  \n",
       "75%      4040.750000    4000.000000      0.000000  \n",
       "max    426529.000000  528666.000000      1.000000  \n",
       "\n",
       "[8 rows x 24 columns]"
      ]
     },
     "execution_count": 35,
     "metadata": {},
     "output_type": "execute_result"
    }
   ],
   "source": [
    "# Check that it worked\n",
    "credit.describe()"
   ]
  },
  {
   "cell_type": "code",
   "execution_count": 20,
   "metadata": {},
   "outputs": [],
   "source": [
    "# Change Y to be data type category http://pandas.pydata.org/pandas-docs/stable/generated/pandas.Series.astype.html\n",
    "# http://pbpython.com/pandas_dtypes.html\n",
    "# credit['default payment next month'] = credit['default payment next month'].astype('category')\n",
    "# credit.info()"
   ]
  },
  {
   "cell_type": "code",
   "execution_count": 21,
   "metadata": {},
   "outputs": [],
   "source": [
    "# Change other variables to catagory (SEX, EDUCATION, MARRIAGE)\n",
    "# credit['SEX'] = credit['SEX'].astype('category')\n",
    "# credit['EDUCATION'] = credit['EDUCATION'].astype('category')\n",
    "# credit['MARRIAGE'] = credit['MARRIAGE'].astype('category')\n",
    "# credit.info()"
   ]
  },
  {
   "cell_type": "code",
   "execution_count": 36,
   "metadata": {},
   "outputs": [
    {
     "data": {
      "text/html": [
       "<div>\n",
       "<style scoped>\n",
       "    .dataframe tbody tr th:only-of-type {\n",
       "        vertical-align: middle;\n",
       "    }\n",
       "\n",
       "    .dataframe tbody tr th {\n",
       "        vertical-align: top;\n",
       "    }\n",
       "\n",
       "    .dataframe thead th {\n",
       "        text-align: right;\n",
       "    }\n",
       "</style>\n",
       "<table border=\"1\" class=\"dataframe\">\n",
       "  <thead>\n",
       "    <tr style=\"text-align: right;\">\n",
       "      <th></th>\n",
       "      <th>ID</th>\n",
       "      <th>LIMIT_BAL</th>\n",
       "      <th>SEX</th>\n",
       "      <th>EDUCATION</th>\n",
       "      <th>MARRIAGE</th>\n",
       "      <th>AGE</th>\n",
       "      <th>Sept_Status</th>\n",
       "      <th>Aug_Status</th>\n",
       "      <th>July_Status</th>\n",
       "      <th>June_Status</th>\n",
       "      <th>...</th>\n",
       "      <th>May_Bill</th>\n",
       "      <th>April_Bill</th>\n",
       "      <th>Sept_Paid</th>\n",
       "      <th>Aug_Paid</th>\n",
       "      <th>July_Paid</th>\n",
       "      <th>June_Paid</th>\n",
       "      <th>May_Paid</th>\n",
       "      <th>April_Paid</th>\n",
       "      <th>Default</th>\n",
       "      <th>AGE_BIN</th>\n",
       "    </tr>\n",
       "  </thead>\n",
       "  <tbody>\n",
       "    <tr>\n",
       "      <th>0</th>\n",
       "      <td>None</td>\n",
       "      <td>20000</td>\n",
       "      <td>2</td>\n",
       "      <td>2</td>\n",
       "      <td>1</td>\n",
       "      <td>24</td>\n",
       "      <td>2</td>\n",
       "      <td>2</td>\n",
       "      <td>-1</td>\n",
       "      <td>-1</td>\n",
       "      <td>...</td>\n",
       "      <td>0</td>\n",
       "      <td>0</td>\n",
       "      <td>0</td>\n",
       "      <td>689</td>\n",
       "      <td>0</td>\n",
       "      <td>0</td>\n",
       "      <td>0</td>\n",
       "      <td>0</td>\n",
       "      <td>1</td>\n",
       "      <td>20</td>\n",
       "    </tr>\n",
       "    <tr>\n",
       "      <th>1</th>\n",
       "      <td>None</td>\n",
       "      <td>120000</td>\n",
       "      <td>2</td>\n",
       "      <td>2</td>\n",
       "      <td>2</td>\n",
       "      <td>26</td>\n",
       "      <td>-1</td>\n",
       "      <td>2</td>\n",
       "      <td>0</td>\n",
       "      <td>0</td>\n",
       "      <td>...</td>\n",
       "      <td>3455</td>\n",
       "      <td>3261</td>\n",
       "      <td>0</td>\n",
       "      <td>1000</td>\n",
       "      <td>1000</td>\n",
       "      <td>1000</td>\n",
       "      <td>0</td>\n",
       "      <td>2000</td>\n",
       "      <td>1</td>\n",
       "      <td>20</td>\n",
       "    </tr>\n",
       "    <tr>\n",
       "      <th>2</th>\n",
       "      <td>None</td>\n",
       "      <td>90000</td>\n",
       "      <td>2</td>\n",
       "      <td>2</td>\n",
       "      <td>2</td>\n",
       "      <td>34</td>\n",
       "      <td>0</td>\n",
       "      <td>0</td>\n",
       "      <td>0</td>\n",
       "      <td>0</td>\n",
       "      <td>...</td>\n",
       "      <td>14948</td>\n",
       "      <td>15549</td>\n",
       "      <td>1518</td>\n",
       "      <td>1500</td>\n",
       "      <td>1000</td>\n",
       "      <td>1000</td>\n",
       "      <td>1000</td>\n",
       "      <td>5000</td>\n",
       "      <td>0</td>\n",
       "      <td>30</td>\n",
       "    </tr>\n",
       "    <tr>\n",
       "      <th>3</th>\n",
       "      <td>None</td>\n",
       "      <td>50000</td>\n",
       "      <td>2</td>\n",
       "      <td>2</td>\n",
       "      <td>1</td>\n",
       "      <td>37</td>\n",
       "      <td>0</td>\n",
       "      <td>0</td>\n",
       "      <td>0</td>\n",
       "      <td>0</td>\n",
       "      <td>...</td>\n",
       "      <td>28959</td>\n",
       "      <td>29547</td>\n",
       "      <td>2000</td>\n",
       "      <td>2019</td>\n",
       "      <td>1200</td>\n",
       "      <td>1100</td>\n",
       "      <td>1069</td>\n",
       "      <td>1000</td>\n",
       "      <td>0</td>\n",
       "      <td>30</td>\n",
       "    </tr>\n",
       "    <tr>\n",
       "      <th>4</th>\n",
       "      <td>None</td>\n",
       "      <td>50000</td>\n",
       "      <td>1</td>\n",
       "      <td>2</td>\n",
       "      <td>1</td>\n",
       "      <td>57</td>\n",
       "      <td>-1</td>\n",
       "      <td>0</td>\n",
       "      <td>-1</td>\n",
       "      <td>0</td>\n",
       "      <td>...</td>\n",
       "      <td>19146</td>\n",
       "      <td>19131</td>\n",
       "      <td>2000</td>\n",
       "      <td>36681</td>\n",
       "      <td>10000</td>\n",
       "      <td>9000</td>\n",
       "      <td>689</td>\n",
       "      <td>679</td>\n",
       "      <td>0</td>\n",
       "      <td>50</td>\n",
       "    </tr>\n",
       "  </tbody>\n",
       "</table>\n",
       "<p>5 rows × 26 columns</p>\n",
       "</div>"
      ],
      "text/plain": [
       "     ID  LIMIT_BAL  SEX  EDUCATION  MARRIAGE  AGE  Sept_Status  Aug_Status  \\\n",
       "0  None      20000    2          2         1   24            2           2   \n",
       "1  None     120000    2          2         2   26           -1           2   \n",
       "2  None      90000    2          2         2   34            0           0   \n",
       "3  None      50000    2          2         1   37            0           0   \n",
       "4  None      50000    1          2         1   57           -1           0   \n",
       "\n",
       "   July_Status  June_Status   ...     May_Bill  April_Bill  Sept_Paid  \\\n",
       "0           -1           -1   ...            0           0          0   \n",
       "1            0            0   ...         3455        3261          0   \n",
       "2            0            0   ...        14948       15549       1518   \n",
       "3            0            0   ...        28959       29547       2000   \n",
       "4           -1            0   ...        19146       19131       2000   \n",
       "\n",
       "   Aug_Paid  July_Paid  June_Paid  May_Paid  April_Paid  Default  AGE_BIN  \n",
       "0       689          0          0         0           0        1       20  \n",
       "1      1000       1000       1000         0        2000        1       20  \n",
       "2      1500       1000       1000      1000        5000        0       30  \n",
       "3      2019       1200       1100      1069        1000        0       30  \n",
       "4     36681      10000       9000       689         679        0       50  \n",
       "\n",
       "[5 rows x 26 columns]"
      ]
     },
     "execution_count": 36,
     "metadata": {},
     "output_type": "execute_result"
    }
   ],
   "source": [
    "# Binning the Age variable \n",
    "# http://benalexkeen.com/bucketing-continuous-variables-in-pandas/\n",
    "# https://pandas.pydata.org/pandas-docs/stable/generated/pandas.cut.html\n",
    "# Can't overwrite original age feature - conflicting data type\n",
    "credit['AGE_BIN'] = pd.cut(credit['AGE'], 6, labels=[\"20\", \"30\", \"40\", \"50\", \"60\", \"70\"])\n",
    "credit.head()"
   ]
  },
  {
   "cell_type": "code",
   "execution_count": 23,
   "metadata": {},
   "outputs": [],
   "source": [
    "# Write CSV \n",
    "# http://pandas.pydata.org/pandas-docs/stable/generated/pandas.DataFrame.to_csv.html \n",
    "# https://stackoverflow.com/questions/29310792/how-to-save-a-list-as-a-csv-file-with-python-with-new-lines\n",
    "credit.to_csv('creditClean.csv')"
   ]
  },
  {
   "cell_type": "code",
   "execution_count": 24,
   "metadata": {},
   "outputs": [],
   "source": [
    "# EDA "
   ]
  },
  {
   "cell_type": "code",
   "execution_count": 37,
   "metadata": {},
   "outputs": [
    {
     "data": {
      "text/html": [
       "<div>\n",
       "<style scoped>\n",
       "    .dataframe tbody tr th:only-of-type {\n",
       "        vertical-align: middle;\n",
       "    }\n",
       "\n",
       "    .dataframe tbody tr th {\n",
       "        vertical-align: top;\n",
       "    }\n",
       "\n",
       "    .dataframe thead th {\n",
       "        text-align: right;\n",
       "    }\n",
       "</style>\n",
       "<table border=\"1\" class=\"dataframe\">\n",
       "  <thead>\n",
       "    <tr style=\"text-align: right;\">\n",
       "      <th></th>\n",
       "      <th>ID</th>\n",
       "      <th>LIMIT_BAL</th>\n",
       "      <th>SEX</th>\n",
       "      <th>EDUCATION</th>\n",
       "      <th>MARRIAGE</th>\n",
       "      <th>AGE</th>\n",
       "      <th>Sept_Status</th>\n",
       "      <th>Aug_Status</th>\n",
       "      <th>July_Status</th>\n",
       "      <th>June_Status</th>\n",
       "      <th>...</th>\n",
       "      <th>May_Bill</th>\n",
       "      <th>April_Bill</th>\n",
       "      <th>Sept_Paid</th>\n",
       "      <th>Aug_Paid</th>\n",
       "      <th>July_Paid</th>\n",
       "      <th>June_Paid</th>\n",
       "      <th>May_Paid</th>\n",
       "      <th>April_Paid</th>\n",
       "      <th>Default</th>\n",
       "      <th>AGE_BIN</th>\n",
       "    </tr>\n",
       "  </thead>\n",
       "  <tbody>\n",
       "    <tr>\n",
       "      <th>0</th>\n",
       "      <td>None</td>\n",
       "      <td>20000</td>\n",
       "      <td>2</td>\n",
       "      <td>2</td>\n",
       "      <td>1</td>\n",
       "      <td>24</td>\n",
       "      <td>2</td>\n",
       "      <td>2</td>\n",
       "      <td>-1</td>\n",
       "      <td>-1</td>\n",
       "      <td>...</td>\n",
       "      <td>0</td>\n",
       "      <td>0</td>\n",
       "      <td>0</td>\n",
       "      <td>689</td>\n",
       "      <td>0</td>\n",
       "      <td>0</td>\n",
       "      <td>0</td>\n",
       "      <td>0</td>\n",
       "      <td>1</td>\n",
       "      <td>20</td>\n",
       "    </tr>\n",
       "    <tr>\n",
       "      <th>1</th>\n",
       "      <td>None</td>\n",
       "      <td>120000</td>\n",
       "      <td>2</td>\n",
       "      <td>2</td>\n",
       "      <td>2</td>\n",
       "      <td>26</td>\n",
       "      <td>-1</td>\n",
       "      <td>2</td>\n",
       "      <td>0</td>\n",
       "      <td>0</td>\n",
       "      <td>...</td>\n",
       "      <td>3455</td>\n",
       "      <td>3261</td>\n",
       "      <td>0</td>\n",
       "      <td>1000</td>\n",
       "      <td>1000</td>\n",
       "      <td>1000</td>\n",
       "      <td>0</td>\n",
       "      <td>2000</td>\n",
       "      <td>1</td>\n",
       "      <td>20</td>\n",
       "    </tr>\n",
       "    <tr>\n",
       "      <th>2</th>\n",
       "      <td>None</td>\n",
       "      <td>90000</td>\n",
       "      <td>2</td>\n",
       "      <td>2</td>\n",
       "      <td>2</td>\n",
       "      <td>34</td>\n",
       "      <td>0</td>\n",
       "      <td>0</td>\n",
       "      <td>0</td>\n",
       "      <td>0</td>\n",
       "      <td>...</td>\n",
       "      <td>14948</td>\n",
       "      <td>15549</td>\n",
       "      <td>1518</td>\n",
       "      <td>1500</td>\n",
       "      <td>1000</td>\n",
       "      <td>1000</td>\n",
       "      <td>1000</td>\n",
       "      <td>5000</td>\n",
       "      <td>0</td>\n",
       "      <td>30</td>\n",
       "    </tr>\n",
       "    <tr>\n",
       "      <th>3</th>\n",
       "      <td>None</td>\n",
       "      <td>50000</td>\n",
       "      <td>2</td>\n",
       "      <td>2</td>\n",
       "      <td>1</td>\n",
       "      <td>37</td>\n",
       "      <td>0</td>\n",
       "      <td>0</td>\n",
       "      <td>0</td>\n",
       "      <td>0</td>\n",
       "      <td>...</td>\n",
       "      <td>28959</td>\n",
       "      <td>29547</td>\n",
       "      <td>2000</td>\n",
       "      <td>2019</td>\n",
       "      <td>1200</td>\n",
       "      <td>1100</td>\n",
       "      <td>1069</td>\n",
       "      <td>1000</td>\n",
       "      <td>0</td>\n",
       "      <td>30</td>\n",
       "    </tr>\n",
       "    <tr>\n",
       "      <th>4</th>\n",
       "      <td>None</td>\n",
       "      <td>50000</td>\n",
       "      <td>1</td>\n",
       "      <td>2</td>\n",
       "      <td>1</td>\n",
       "      <td>57</td>\n",
       "      <td>-1</td>\n",
       "      <td>0</td>\n",
       "      <td>-1</td>\n",
       "      <td>0</td>\n",
       "      <td>...</td>\n",
       "      <td>19146</td>\n",
       "      <td>19131</td>\n",
       "      <td>2000</td>\n",
       "      <td>36681</td>\n",
       "      <td>10000</td>\n",
       "      <td>9000</td>\n",
       "      <td>689</td>\n",
       "      <td>679</td>\n",
       "      <td>0</td>\n",
       "      <td>50</td>\n",
       "    </tr>\n",
       "  </tbody>\n",
       "</table>\n",
       "<p>5 rows × 26 columns</p>\n",
       "</div>"
      ],
      "text/plain": [
       "     ID  LIMIT_BAL  SEX  EDUCATION  MARRIAGE  AGE  Sept_Status  Aug_Status  \\\n",
       "0  None      20000    2          2         1   24            2           2   \n",
       "1  None     120000    2          2         2   26           -1           2   \n",
       "2  None      90000    2          2         2   34            0           0   \n",
       "3  None      50000    2          2         1   37            0           0   \n",
       "4  None      50000    1          2         1   57           -1           0   \n",
       "\n",
       "   July_Status  June_Status   ...     May_Bill  April_Bill  Sept_Paid  \\\n",
       "0           -1           -1   ...            0           0          0   \n",
       "1            0            0   ...         3455        3261          0   \n",
       "2            0            0   ...        14948       15549       1518   \n",
       "3            0            0   ...        28959       29547       2000   \n",
       "4           -1            0   ...        19146       19131       2000   \n",
       "\n",
       "   Aug_Paid  July_Paid  June_Paid  May_Paid  April_Paid  Default  AGE_BIN  \n",
       "0       689          0          0         0           0        1       20  \n",
       "1      1000       1000       1000         0        2000        1       20  \n",
       "2      1500       1000       1000      1000        5000        0       30  \n",
       "3      2019       1200       1100      1069        1000        0       30  \n",
       "4     36681      10000       9000       689         679        0       50  \n",
       "\n",
       "[5 rows x 26 columns]"
      ]
     },
     "execution_count": 37,
     "metadata": {},
     "output_type": "execute_result"
    }
   ],
   "source": [
    "# Check out first 5 rows\n",
    "credit.head()"
   ]
  },
  {
   "cell_type": "code",
   "execution_count": 38,
   "metadata": {},
   "outputs": [
    {
     "name": "stdout",
     "output_type": "stream",
     "text": [
      "Index(['ID', 'LIMIT_BAL', 'SEX', 'EDUCATION', 'MARRIAGE', 'AGE', 'Sept_Status',\n",
      "       'Aug_Status', 'July_Status', 'June_Status', 'May_Status',\n",
      "       'April_Status', 'Sept_Bill', 'Aug_Bill', 'July_Bill', 'June_Bill',\n",
      "       'May_Bill', 'April_Bill', 'Sept_Paid', 'Aug_Paid', 'July_Paid',\n",
      "       'June_Paid', 'May_Paid', 'April_Paid', 'Default', 'AGE_BIN'],\n",
      "      dtype='object')\n"
     ]
    }
   ],
   "source": [
    "# Get Column Names\n",
    "header = credit.dtypes.index\n",
    "print(header)"
   ]
  },
  {
   "cell_type": "code",
   "execution_count": 39,
   "metadata": {},
   "outputs": [
    {
     "name": "stdout",
     "output_type": "stream",
     "text": [
      "<class 'pandas.core.frame.DataFrame'>\n",
      "Int64Index: 29946 entries, 0 to 29999\n",
      "Data columns (total 26 columns):\n",
      "ID              0 non-null object\n",
      "LIMIT_BAL       29946 non-null int64\n",
      "SEX             29946 non-null int64\n",
      "EDUCATION       29946 non-null int64\n",
      "MARRIAGE        29946 non-null int64\n",
      "AGE             29946 non-null int64\n",
      "Sept_Status     29946 non-null int64\n",
      "Aug_Status      29946 non-null int64\n",
      "July_Status     29946 non-null int64\n",
      "June_Status     29946 non-null int64\n",
      "May_Status      29946 non-null int64\n",
      "April_Status    29946 non-null int64\n",
      "Sept_Bill       29946 non-null int64\n",
      "Aug_Bill        29946 non-null int64\n",
      "July_Bill       29946 non-null int64\n",
      "June_Bill       29946 non-null int64\n",
      "May_Bill        29946 non-null int64\n",
      "April_Bill      29946 non-null int64\n",
      "Sept_Paid       29946 non-null int64\n",
      "Aug_Paid        29946 non-null int64\n",
      "July_Paid       29946 non-null int64\n",
      "June_Paid       29946 non-null int64\n",
      "May_Paid        29946 non-null int64\n",
      "April_Paid      29946 non-null int64\n",
      "Default         29946 non-null int64\n",
      "AGE_BIN         29946 non-null category\n",
      "dtypes: category(1), int64(24), object(1)\n",
      "memory usage: 7.2+ MB\n"
     ]
    }
   ],
   "source": [
    "# Information about the data\n",
    "credit.info()"
   ]
  },
  {
   "cell_type": "code",
   "execution_count": 40,
   "metadata": {},
   "outputs": [
    {
     "data": {
      "text/plain": [
       "Default\n",
       "0    23315\n",
       "1     6631\n",
       "Name: Default, dtype: int64"
      ]
     },
     "execution_count": 40,
     "metadata": {},
     "output_type": "execute_result"
    }
   ],
   "source": [
    "# Get number of defaults\n",
    "credit.groupby('Default')['Default'].count()"
   ]
  },
  {
   "cell_type": "code",
   "execution_count": 41,
   "metadata": {},
   "outputs": [
    {
     "data": {
      "text/plain": [
       "0.22143191077272423"
      ]
     },
     "execution_count": 41,
     "metadata": {},
     "output_type": "execute_result"
    }
   ],
   "source": [
    "# Probablility of default\n",
    "credit.Default.sum() / len(credit.Default)"
   ]
  },
  {
   "cell_type": "code",
   "execution_count": 42,
   "metadata": {},
   "outputs": [
    {
     "data": {
      "text/plain": [
       "<seaborn.axisgrid.FacetGrid at 0x1a1b8f13c8>"
      ]
     },
     "execution_count": 42,
     "metadata": {},
     "output_type": "execute_result"
    },
    {
     "data": {
      "image/png": "[encoded data removed]",
      "text/plain": [
       "<matplotlib.figure.Figure at 0x1a1b8f1a58>"
      ]
     },
     "metadata": {},
     "output_type": "display_data"
    }
   ],
   "source": [
    "# Instead of a group by, use seaborn to plot the count defaults\n",
    "fg = sns.factorplot('Default', data=credit, kind='count', aspect=1.5)\n",
    "fg.set_xlabels('Default')"
   ]
  },
  {
   "cell_type": "code",
   "execution_count": 43,
   "metadata": {},
   "outputs": [
    {
     "data": {
      "text/plain": [
       "SEX\n",
       "1    11874\n",
       "2    18072\n",
       "Name: SEX, dtype: int64"
      ]
     },
     "execution_count": 43,
     "metadata": {},
     "output_type": "execute_result"
    }
   ],
   "source": [
    "# Get counts of gender\n",
    "credit.groupby('SEX')['SEX'].count()"
   ]
  },
  {
   "cell_type": "code",
   "execution_count": 44,
   "metadata": {},
   "outputs": [
    {
     "data": {
      "text/plain": [
       "<seaborn.axisgrid.FacetGrid at 0x1a102526d8>"
      ]
     },
     "execution_count": 44,
     "metadata": {},
     "output_type": "execute_result"
    },
    {
     "data": {
      "image/png": "[encoded data removed]",
      "text/plain": [
       "<matplotlib.figure.Figure at 0x1a12605a20>"
      ]
     },
     "metadata": {},
     "output_type": "display_data"
    }
   ],
   "source": [
    "# Instead of a group by, use seaborn to plot the count gender\n",
    "fg = sns.factorplot('SEX', data=credit, kind='count', aspect=1.5)\n",
    "fg.set_xlabels('SEX')"
   ]
  },
  {
   "cell_type": "code",
   "execution_count": 47,
   "metadata": {},
   "outputs": [
    {
     "data": {
      "text/html": [
       "<div>\n",
       "<style scoped>\n",
       "    .dataframe tbody tr th:only-of-type {\n",
       "        vertical-align: middle;\n",
       "    }\n",
       "\n",
       "    .dataframe tbody tr th {\n",
       "        vertical-align: top;\n",
       "    }\n",
       "\n",
       "    .dataframe thead th {\n",
       "        text-align: right;\n",
       "    }\n",
       "</style>\n",
       "<table border=\"1\" class=\"dataframe\">\n",
       "  <thead>\n",
       "    <tr style=\"text-align: right;\">\n",
       "      <th>Default</th>\n",
       "      <th>0</th>\n",
       "      <th>1</th>\n",
       "    </tr>\n",
       "    <tr>\n",
       "      <th>SEX</th>\n",
       "      <th></th>\n",
       "      <th></th>\n",
       "    </tr>\n",
       "  </thead>\n",
       "  <tbody>\n",
       "    <tr>\n",
       "      <th>1</th>\n",
       "      <td>9003</td>\n",
       "      <td>2871</td>\n",
       "    </tr>\n",
       "    <tr>\n",
       "      <th>2</th>\n",
       "      <td>14312</td>\n",
       "      <td>3760</td>\n",
       "    </tr>\n",
       "  </tbody>\n",
       "</table>\n",
       "</div>"
      ],
      "text/plain": [
       "Default      0     1\n",
       "SEX                 \n",
       "1         9003  2871\n",
       "2        14312  3760"
      ]
     },
     "execution_count": 47,
     "metadata": {},
     "output_type": "execute_result"
    }
   ],
   "source": [
    "# Get number of defaults by sex \n",
    "credit.groupby(['SEX', 'Default']) ['SEX'].count()\n",
    "gender_Default"
   ]
  },
  {
   "cell_type": "code",
   "execution_count": 48,
   "metadata": {},
   "outputs": [
    {
     "data": {
      "text/html": [
       "<div>\n",
       "<style scoped>\n",
       "    .dataframe tbody tr th:only-of-type {\n",
       "        vertical-align: middle;\n",
       "    }\n",
       "\n",
       "    .dataframe tbody tr th {\n",
       "        vertical-align: top;\n",
       "    }\n",
       "\n",
       "    .dataframe thead th {\n",
       "        text-align: right;\n",
       "    }\n",
       "</style>\n",
       "<table border=\"1\" class=\"dataframe\">\n",
       "  <thead>\n",
       "    <tr style=\"text-align: right;\">\n",
       "      <th>Default</th>\n",
       "      <th>0</th>\n",
       "      <th>1</th>\n",
       "    </tr>\n",
       "    <tr>\n",
       "      <th>SEX</th>\n",
       "      <th></th>\n",
       "      <th></th>\n",
       "    </tr>\n",
       "  </thead>\n",
       "  <tbody>\n",
       "    <tr>\n",
       "      <th>1</th>\n",
       "      <td>9003</td>\n",
       "      <td>2871</td>\n",
       "    </tr>\n",
       "    <tr>\n",
       "      <th>2</th>\n",
       "      <td>14312</td>\n",
       "      <td>3760</td>\n",
       "    </tr>\n",
       "  </tbody>\n",
       "</table>\n",
       "</div>"
      ],
      "text/plain": [
       "Default      0     1\n",
       "SEX                 \n",
       "1         9003  2871\n",
       "2        14312  3760"
      ]
     },
     "execution_count": 48,
     "metadata": {},
     "output_type": "execute_result"
    }
   ],
   "source": [
    "# Get number of defaults by gender \n",
    "gender_Default = credit.groupby(['SEX', 'Default']).size().unstack(1)\n",
    "gender_Default"
   ]
  },
  {
   "cell_type": "code",
   "execution_count": 49,
   "metadata": {},
   "outputs": [
    {
     "data": {
      "text/html": [
       "<div>\n",
       "<style scoped>\n",
       "    .dataframe tbody tr th:only-of-type {\n",
       "        vertical-align: middle;\n",
       "    }\n",
       "\n",
       "    .dataframe tbody tr th {\n",
       "        vertical-align: top;\n",
       "    }\n",
       "\n",
       "    .dataframe thead th {\n",
       "        text-align: right;\n",
       "    }\n",
       "</style>\n",
       "<table border=\"1\" class=\"dataframe\">\n",
       "  <thead>\n",
       "    <tr style=\"text-align: right;\">\n",
       "      <th>Default</th>\n",
       "      <th>0</th>\n",
       "      <th>1</th>\n",
       "    </tr>\n",
       "    <tr>\n",
       "      <th>SEX</th>\n",
       "      <th></th>\n",
       "      <th></th>\n",
       "    </tr>\n",
       "  </thead>\n",
       "  <tbody>\n",
       "    <tr>\n",
       "      <th>1</th>\n",
       "      <td>9003</td>\n",
       "      <td>2871</td>\n",
       "    </tr>\n",
       "    <tr>\n",
       "      <th>2</th>\n",
       "      <td>14312</td>\n",
       "      <td>3760</td>\n",
       "    </tr>\n",
       "  </tbody>\n",
       "</table>\n",
       "</div>"
      ],
      "text/plain": [
       "Default      0     1\n",
       "SEX                 \n",
       "1         9003  2871\n",
       "2        14312  3760"
      ]
     },
     "execution_count": 49,
     "metadata": {},
     "output_type": "execute_result"
    }
   ],
   "source": [
    "# Lets look at that with crosstabs\n",
    "pd.crosstab(credit.SEX, credit.Default)"
   ]
  },
  {
   "cell_type": "code",
   "execution_count": 50,
   "metadata": {},
   "outputs": [
    {
     "data": {
      "text/plain": [
       "<matplotlib.axes._subplots.AxesSubplot at 0x1a10252ef0>"
      ]
     },
     "execution_count": 50,
     "metadata": {},
     "output_type": "execute_result"
    },
    {
     "data": {
      "image/png": "[encoded data removed]",
      "text/plain": [
       "<matplotlib.figure.Figure at 0x1a125f6400>"
      ]
     },
     "metadata": {},
     "output_type": "display_data"
    }
   ],
   "source": [
    "# Let's stack this chart\n",
    "gender_Default.plot(kind='bar', stacked=True)"
   ]
  },
  {
   "cell_type": "code",
   "execution_count": 51,
   "metadata": {},
   "outputs": [
    {
     "data": {
      "text/html": [
       "<div>\n",
       "<style scoped>\n",
       "    .dataframe tbody tr th:only-of-type {\n",
       "        vertical-align: middle;\n",
       "    }\n",
       "\n",
       "    .dataframe tbody tr th {\n",
       "        vertical-align: top;\n",
       "    }\n",
       "\n",
       "    .dataframe thead th {\n",
       "        text-align: right;\n",
       "    }\n",
       "</style>\n",
       "<table border=\"1\" class=\"dataframe\">\n",
       "  <thead>\n",
       "    <tr style=\"text-align: right;\">\n",
       "      <th>Default</th>\n",
       "      <th>0</th>\n",
       "      <th>1</th>\n",
       "      <th>Percent</th>\n",
       "    </tr>\n",
       "    <tr>\n",
       "      <th>SEX</th>\n",
       "      <th></th>\n",
       "      <th></th>\n",
       "      <th></th>\n",
       "    </tr>\n",
       "  </thead>\n",
       "  <tbody>\n",
       "    <tr>\n",
       "      <th>1</th>\n",
       "      <td>9003</td>\n",
       "      <td>2871</td>\n",
       "      <td>0.241789</td>\n",
       "    </tr>\n",
       "    <tr>\n",
       "      <th>2</th>\n",
       "      <td>14312</td>\n",
       "      <td>3760</td>\n",
       "      <td>0.208057</td>\n",
       "    </tr>\n",
       "  </tbody>\n",
       "</table>\n",
       "</div>"
      ],
      "text/plain": [
       "Default      0     1   Percent\n",
       "SEX                           \n",
       "1         9003  2871  0.241789\n",
       "2        14312  3760  0.208057"
      ]
     },
     "execution_count": 51,
     "metadata": {},
     "output_type": "execute_result"
    }
   ],
   "source": [
    "# Let's look at the percent of default by gender\n",
    "# males = 1 \n",
    "# females = 2 \n",
    "\n",
    "gender_Default['Percent'] = (gender_Default[1] / (gender_Default[0] + gender_Default[1]))\n",
    "gender_Default"
   ]
  },
  {
   "cell_type": "code",
   "execution_count": 52,
   "metadata": {},
   "outputs": [
    {
     "data": {
      "text/plain": [
       "<seaborn.axisgrid.FacetGrid at 0x108e04668>"
      ]
     },
     "execution_count": 52,
     "metadata": {},
     "output_type": "execute_result"
    },
    {
     "data": {
      "image/png": "[encoded data removed]",
      "text/plain": [
       "<matplotlib.figure.Figure at 0x1a1c4348d0>"
      ]
     },
     "metadata": {},
     "output_type": "display_data"
    }
   ],
   "source": [
    "# Instead of a group by, use seaborn to plot gender by default\n",
    "fg = sns.factorplot('SEX', data=credit, hue = 'Default', kind ='count', aspect=1.75)\n",
    "fg.set_xlabels('SEX')"
   ]
  },
  {
   "cell_type": "code",
   "execution_count": 53,
   "metadata": {},
   "outputs": [
    {
     "data": {
      "text/html": [
       "<div>\n",
       "<style scoped>\n",
       "    .dataframe tbody tr th:only-of-type {\n",
       "        vertical-align: middle;\n",
       "    }\n",
       "\n",
       "    .dataframe tbody tr th {\n",
       "        vertical-align: top;\n",
       "    }\n",
       "\n",
       "    .dataframe thead th {\n",
       "        text-align: right;\n",
       "    }\n",
       "</style>\n",
       "<table border=\"1\" class=\"dataframe\">\n",
       "  <thead>\n",
       "    <tr style=\"text-align: right;\">\n",
       "      <th>Default</th>\n",
       "      <th>0</th>\n",
       "      <th>1</th>\n",
       "      <th>All</th>\n",
       "    </tr>\n",
       "    <tr>\n",
       "      <th>AGE_BIN</th>\n",
       "      <th></th>\n",
       "      <th></th>\n",
       "      <th></th>\n",
       "    </tr>\n",
       "  </thead>\n",
       "  <tbody>\n",
       "    <tr>\n",
       "      <th>20</th>\n",
       "      <td>14137</td>\n",
       "      <td>4027</td>\n",
       "      <td>18164</td>\n",
       "    </tr>\n",
       "    <tr>\n",
       "      <th>30</th>\n",
       "      <td>13660</td>\n",
       "      <td>3365</td>\n",
       "      <td>17025</td>\n",
       "    </tr>\n",
       "    <tr>\n",
       "      <th>40</th>\n",
       "      <td>7252</td>\n",
       "      <td>2144</td>\n",
       "      <td>9396</td>\n",
       "    </tr>\n",
       "    <tr>\n",
       "      <th>50</th>\n",
       "      <td>2223</td>\n",
       "      <td>711</td>\n",
       "      <td>2934</td>\n",
       "    </tr>\n",
       "    <tr>\n",
       "      <th>60</th>\n",
       "      <td>328</td>\n",
       "      <td>134</td>\n",
       "      <td>462</td>\n",
       "    </tr>\n",
       "    <tr>\n",
       "      <th>70</th>\n",
       "      <td>27</td>\n",
       "      <td>10</td>\n",
       "      <td>37</td>\n",
       "    </tr>\n",
       "    <tr>\n",
       "      <th>All</th>\n",
       "      <td>37627</td>\n",
       "      <td>10391</td>\n",
       "      <td>48018</td>\n",
       "    </tr>\n",
       "  </tbody>\n",
       "</table>\n",
       "</div>"
      ],
      "text/plain": [
       "Default      0      1    All\n",
       "AGE_BIN                     \n",
       "20       14137   4027  18164\n",
       "30       13660   3365  17025\n",
       "40        7252   2144   9396\n",
       "50        2223    711   2934\n",
       "60         328    134    462\n",
       "70          27     10     37\n",
       "All      37627  10391  48018"
      ]
     },
     "execution_count": 53,
     "metadata": {},
     "output_type": "execute_result"
    }
   ],
   "source": [
    "# Number of defaults by age\n",
    "credit.pivot_table('SEX', 'AGE_BIN','Default', aggfunc=np.sum, margins=True)"
   ]
  },
  {
   "cell_type": "code",
   "execution_count": 54,
   "metadata": {},
   "outputs": [
    {
     "data": {
      "text/plain": [
       "AGE_BIN  Default\n",
       "20       0          8532\n",
       "         1          2469\n",
       "30       0          8502\n",
       "         1          2189\n",
       "40       0          4594\n",
       "         1          1396\n",
       "50       0          1444\n",
       "         1           481\n",
       "60       0           225\n",
       "         1            89\n",
       "70       0            18\n",
       "         1             7\n",
       "Name: AGE_BIN, dtype: int64"
      ]
     },
     "execution_count": 54,
     "metadata": {},
     "output_type": "execute_result"
    }
   ],
   "source": [
    "# Get number of defaults by age bin\n",
    "credit.groupby(['AGE_BIN', 'Default']) ['AGE_BIN'].count()"
   ]
  },
  {
   "cell_type": "code",
   "execution_count": 55,
   "metadata": {},
   "outputs": [
    {
     "data": {
      "text/plain": [
       "<seaborn.axisgrid.FacetGrid at 0x1a125d4080>"
      ]
     },
     "execution_count": 55,
     "metadata": {},
     "output_type": "execute_result"
    },
    {
     "data": {
      "image/png": "[encoded data removed]",
      "text/plain": [
       "<matplotlib.figure.Figure at 0x1a1bd844a8>"
      ]
     },
     "metadata": {},
     "output_type": "display_data"
    }
   ],
   "source": [
    "# Instead of a group by, use seaborn to plot \n",
    "fg = sns.factorplot('AGE_BIN', data=credit, hue = 'Default', kind ='count', aspect=1.75)\n",
    "fg.set_xlabels('AGE_BIN')"
   ]
  },
  {
   "cell_type": "code",
   "execution_count": 56,
   "metadata": {},
   "outputs": [
    {
     "data": {
      "text/plain": [
       "EDUCATION  Default\n",
       "0          0             14\n",
       "1          0           8545\n",
       "           1           2036\n",
       "2          0          10695\n",
       "           1           3329\n",
       "3          0           3640\n",
       "           1           1233\n",
       "4          0            116\n",
       "           1              7\n",
       "5          0            262\n",
       "           1             18\n",
       "6          0             43\n",
       "           1              8\n",
       "Name: EDUCATION, dtype: int64"
      ]
     },
     "execution_count": 56,
     "metadata": {},
     "output_type": "execute_result"
    }
   ],
   "source": [
    "# Get number of defaults by education level\n",
    "credit.groupby(['EDUCATION', 'Default']) ['EDUCATION'].count()"
   ]
  },
  {
   "cell_type": "code",
   "execution_count": 57,
   "metadata": {},
   "outputs": [
    {
     "data": {
      "text/plain": [
       "<seaborn.axisgrid.FacetGrid at 0x1a1bdc6be0>"
      ]
     },
     "execution_count": 57,
     "metadata": {},
     "output_type": "execute_result"
    },
    {
     "data": {
      "image/png": "[encoded data removed]",
      "text/plain": [
       "<matplotlib.figure.Figure at 0x1a1bc88fd0>"
      ]
     },
     "metadata": {},
     "output_type": "display_data"
    }
   ],
   "source": [
    "# Instead of a group by, use seaborn to plot \n",
    "fg = sns.factorplot('EDUCATION', data=credit, hue = 'Default', kind ='count', aspect=1.75)\n",
    "fg.set_xlabels('EDUCATION')"
   ]
  },
  {
   "cell_type": "code",
   "execution_count": 58,
   "metadata": {},
   "outputs": [
    {
     "data": {
      "text/plain": [
       "MARRIAGE  Default\n",
       "1         0          10453\n",
       "          1           3206\n",
       "2         0          12623\n",
       "          1           3341\n",
       "3         0            239\n",
       "          1             84\n",
       "Name: MARRIAGE, dtype: int64"
      ]
     },
     "execution_count": 58,
     "metadata": {},
     "output_type": "execute_result"
    }
   ],
   "source": [
    "# Get number of defaults by marital status\n",
    "credit.groupby(['MARRIAGE', 'Default']) ['MARRIAGE'].count()"
   ]
  },
  {
   "cell_type": "code",
   "execution_count": 59,
   "metadata": {},
   "outputs": [
    {
     "data": {
      "text/plain": [
       "<seaborn.axisgrid.FacetGrid at 0x1a1bcaa4a8>"
      ]
     },
     "execution_count": 59,
     "metadata": {},
     "output_type": "execute_result"
    },
    {
     "data": {
      "image/png": "[encoded data removed]",
      "text/plain": [
       "<matplotlib.figure.Figure at 0x1a1c763048>"
      ]
     },
     "metadata": {},
     "output_type": "display_data"
    }
   ],
   "source": [
    "# Instead of a group by, use seaborn to plot \n",
    "fg = sns.factorplot('MARRIAGE', data=credit, hue = 'Default', kind ='count', aspect=1.75)\n",
    "fg.set_xlabels('MARRIAGE')"
   ]
  },
  {
   "cell_type": "code",
   "execution_count": null,
   "metadata": {},
   "outputs": [],
   "source": []
  },
  {
   "cell_type": "code",
   "execution_count": 60,
   "metadata": {},
   "outputs": [
    {
     "data": {
      "image/png": "[encoded data removed]",
      "text/plain": [
       "<matplotlib.figure.Figure at 0x1a1c409080>"
      ]
     },
     "metadata": {},
     "output_type": "display_data"
    }
   ],
   "source": [
    "# Create first histogram\n",
    "plt.hist(credit['LIMIT_BAL'])\n",
    "plt.show()"
   ]
  },
  {
   "cell_type": "code",
   "execution_count": 61,
   "metadata": {},
   "outputs": [
    {
     "data": {
      "image/png": "[encoded data removed]",
      "text/plain": [
       "<matplotlib.figure.Figure at 0x1a1bbaab70>"
      ]
     },
     "metadata": {},
     "output_type": "display_data"
    }
   ],
   "source": [
    "# Use bins in histogram\n",
    "plt.hist(credit['LIMIT_BAL'], bins=50)\n",
    "plt.show()"
   ]
  },
  {
   "cell_type": "code",
   "execution_count": 62,
   "metadata": {},
   "outputs": [
    {
     "data": {
      "image/png": "[encoded data removed]",
      "text/plain": [
       "<matplotlib.figure.Figure at 0x1a1bd74cc0>"
      ]
     },
     "metadata": {},
     "output_type": "display_data"
    }
   ],
   "source": [
    "# Inspect Age\n",
    "plt.hist(credit['AGE'], bins=50)\n",
    "plt.show()"
   ]
  },
  {
   "cell_type": "code",
   "execution_count": 63,
   "metadata": {},
   "outputs": [
    {
     "data": {
      "image/png": "[encoded data removed]",
      "text/plain": [
       "<matplotlib.figure.Figure at 0x1a1c604d30>"
      ]
     },
     "metadata": {},
     "output_type": "display_data"
    }
   ],
   "source": [
    "# Inspect Age Bins\n",
    "plt.hist(credit['AGE_BIN'])\n",
    "plt.show()"
   ]
  },
  {
   "cell_type": "code",
   "execution_count": 66,
   "metadata": {},
   "outputs": [
    {
     "data": {
      "image/png": "[encoded data removed]",
      "text/plain": [
       "<matplotlib.figure.Figure at 0x1a1bb2e470>"
      ]
     },
     "metadata": {},
     "output_type": "display_data"
    }
   ],
   "source": [
    "# Inspect Default\n",
    "plt.hist(credit['Default'])\n",
    "plt.show()"
   ]
  },
  {
   "cell_type": "code",
   "execution_count": 67,
   "metadata": {},
   "outputs": [
    {
     "data": {
      "image/png": "[encoded data removed]",
      "text/plain": [
       "<matplotlib.figure.Figure at 0x1a12313cf8>"
      ]
     },
     "metadata": {},
     "output_type": "display_data"
    }
   ],
   "source": [
    "# Line Plot\n",
    "plt.plot(credit['LIMIT_BAL'])\n",
    "plt.show()"
   ]
  },
  {
   "cell_type": "code",
   "execution_count": 68,
   "metadata": {},
   "outputs": [
    {
     "data": {
      "text/plain": [
       "<matplotlib.collections.PathCollection at 0x1a1bebe8d0>"
      ]
     },
     "execution_count": 68,
     "metadata": {},
     "output_type": "execute_result"
    },
    {
     "data": {
      "image/png": "[encoded data removed]",
      "text/plain": [
       "<matplotlib.figure.Figure at 0x1a1233d240>"
      ]
     },
     "metadata": {},
     "output_type": "display_data"
    }
   ],
   "source": [
    "# Scatter Plots\n",
    "x = credit['Sept_Status']\n",
    "y = credit['July_Status']\n",
    "plt.scatter(x,y)"
   ]
  },
  {
   "cell_type": "code",
   "execution_count": 69,
   "metadata": {},
   "outputs": [
    {
     "data": {
      "image/png": "[encoded data removed]",
      "text/plain": [
       "<matplotlib.figure.Figure at 0x1a1be9d6d8>"
      ]
     },
     "metadata": {},
     "output_type": "display_data"
    }
   ],
   "source": [
    "# Box Plot\n",
    "A = credit['Sept_Bill']\n",
    "plt.boxplot(A,0,'gD')\n",
    "plt.show()"
   ]
  },
  {
   "cell_type": "code",
   "execution_count": 88,
   "metadata": {},
   "outputs": [
    {
     "data": {
      "image/png": "[encoded data removed]",
      "text/plain": [
       "<matplotlib.figure.Figure at 0x1a107f8b70>"
      ]
     },
     "metadata": {},
     "output_type": "display_data"
    }
   ],
   "source": [
    "# https://seaborn.pydata.org/tutorial/axis_grids.html\n",
    "def hexbin(x, y, color, **kwargs):\n",
    "    cmap = sns.light_palette(color, as_cmap=True)\n",
    "    plt.hexbin(x, y, gridsize=15, cmap=cmap, **kwargs)\n",
    "    \n",
    "with sns.axes_style(\"dark\"):\n",
    "    g = sns.FacetGrid(credit, hue=\"Default\", col=\"Default\", size=4)\n",
    "g.map(hexbin, \"EDUCATION\", \"SEX\", extent=[0, 50, 0, 10]);"
   ]
  },
  {
   "cell_type": "code",
   "execution_count": 93,
   "metadata": {},
   "outputs": [
    {
     "data": {
      "image/png": "[encoded data removed]",
      "text/plain": [
       "<matplotlib.figure.Figure at 0x1a123d64e0>"
      ]
     },
     "metadata": {},
     "output_type": "display_data"
    }
   ],
   "source": [
    "# https://seaborn.pydata.org/tutorial/axis_grids.html\n",
    "def hexbin(x, y, color, **kwargs):\n",
    "    cmap = sns.light_palette(color, as_cmap=True)\n",
    "    plt.hexbin(x, y, gridsize=10, cmap=cmap, **kwargs)\n",
    "    \n",
    "with sns.axes_style(\"dark\"):\n",
    "    g = sns.FacetGrid(credit, hue=\"Default\", col=\"Default\", size=4)\n",
    "g.map(hexbin, \"EDUCATION\", \"SEX\", extent=[1, 2, 0, 6]);"
   ]
  },
  {
   "cell_type": "code",
   "execution_count": 75,
   "metadata": {},
   "outputs": [],
   "source": [
    "# For Correlation we need all attributs to be numeric. Let's reimport but with a new df name\n",
    "creditInt = pd.read_csv('defaultOfCreditCardClients.csv', header =1)"
   ]
  },
  {
   "cell_type": "code",
   "execution_count": 76,
   "metadata": {},
   "outputs": [
    {
     "name": "stdout",
     "output_type": "stream",
     "text": [
      "                    ID  LIMIT_BAL       SEX  EDUCATION  MARRIAGE       AGE  \\\n",
      "ID            1.000000   0.026179  0.018497   0.039177 -0.029079  0.018678   \n",
      "LIMIT_BAL     0.026179   1.000000  0.024755  -0.219161 -0.108139  0.144713   \n",
      "SEX           0.018497   0.024755  1.000000   0.014232 -0.031389 -0.090874   \n",
      "EDUCATION     0.039177  -0.219161  0.014232   1.000000 -0.143464  0.175061   \n",
      "MARRIAGE     -0.029079  -0.108139 -0.031389  -0.143464  1.000000 -0.414170   \n",
      "AGE           0.018678   0.144713 -0.090874   0.175061 -0.414170  1.000000   \n",
      "Sept_Status  -0.030575  -0.271214 -0.057643   0.105364  0.019917 -0.039447   \n",
      "Aug_Status   -0.011215  -0.296382 -0.070771   0.121566  0.024199 -0.050148   \n",
      "July_Status  -0.018494  -0.286123 -0.066096   0.114025  0.032688 -0.053048   \n",
      "June_Status  -0.002735  -0.267460 -0.060173   0.108793  0.033122 -0.049722   \n",
      "May_Status   -0.022199  -0.249411 -0.055064   0.097520  0.035629 -0.053826   \n",
      "April_Status -0.020270  -0.235195 -0.044008   0.082316  0.034345 -0.048773   \n",
      "Sept_Bill     0.019389   0.285430 -0.033642   0.023581 -0.023472  0.056239   \n",
      "Aug_Bill      0.017982   0.278314 -0.031183   0.018749 -0.021602  0.054283   \n",
      "July_Bill     0.024354   0.283236 -0.024563   0.013002 -0.024909  0.053710   \n",
      "June_Bill     0.040351   0.293988 -0.021880  -0.000451 -0.023344  0.051353   \n",
      "May_Bill      0.016705   0.295562 -0.017005  -0.007567 -0.025393  0.049345   \n",
      "April_Bill    0.016730   0.290389 -0.016733  -0.009099 -0.021207  0.047613   \n",
      "Sept_Paid     0.009742   0.195236 -0.000242  -0.037456 -0.005979  0.026147   \n",
      "Aug_Paid      0.008406   0.178408 -0.001391  -0.030038 -0.008093  0.021785   \n",
      "July_Paid     0.039151   0.210167 -0.008597  -0.039943 -0.003541  0.029247   \n",
      "June_Paid     0.007793   0.203242 -0.002229  -0.038218 -0.012659  0.021379   \n",
      "May_Paid      0.000652   0.217202 -0.001667  -0.040358 -0.001205  0.022850   \n",
      "April_Paid    0.003000   0.219595 -0.002766  -0.037200 -0.006641  0.019478   \n",
      "Default      -0.013952  -0.153520 -0.039961   0.028006 -0.024339  0.013890   \n",
      "\n",
      "              Sept_Status  Aug_Status  July_Status  June_Status    ...     \\\n",
      "ID              -0.030575   -0.011215    -0.018494    -0.002735    ...      \n",
      "LIMIT_BAL       -0.271214   -0.296382    -0.286123    -0.267460    ...      \n",
      "SEX             -0.057643   -0.070771    -0.066096    -0.060173    ...      \n",
      "EDUCATION        0.105364    0.121566     0.114025     0.108793    ...      \n",
      "MARRIAGE         0.019917    0.024199     0.032688     0.033122    ...      \n",
      "AGE             -0.039447   -0.050148    -0.053048    -0.049722    ...      \n",
      "Sept_Status      1.000000    0.672164     0.574245     0.538841    ...      \n",
      "Aug_Status       0.672164    1.000000     0.766552     0.662067    ...      \n",
      "July_Status      0.574245    0.766552     1.000000     0.777359    ...      \n",
      "June_Status      0.538841    0.662067     0.777359     1.000000    ...      \n",
      "May_Status       0.509426    0.622780     0.686775     0.819835    ...      \n",
      "April_Status     0.474553    0.575501     0.632684     0.716449    ...      \n",
      "Sept_Bill        0.187068    0.234887     0.208473     0.202812    ...      \n",
      "Aug_Bill         0.189859    0.235257     0.237295     0.225816    ...      \n",
      "July_Bill        0.179785    0.224146     0.227494     0.244983    ...      \n",
      "June_Bill        0.179125    0.222237     0.227202     0.245917    ...      \n",
      "May_Bill         0.180635    0.221348     0.225145     0.242902    ...      \n",
      "April_Bill       0.176980    0.219403     0.222327     0.239154    ...      \n",
      "Sept_Paid       -0.079269   -0.080701     0.001295    -0.009362    ...      \n",
      "Aug_Paid        -0.070101   -0.058990    -0.066793    -0.001944    ...      \n",
      "July_Paid       -0.070561   -0.055901    -0.053311    -0.069235    ...      \n",
      "June_Paid       -0.064005   -0.046858    -0.046067    -0.043461    ...      \n",
      "May_Paid        -0.058190   -0.037093    -0.035863    -0.033590    ...      \n",
      "April_Paid      -0.058673   -0.036500    -0.035861    -0.026565    ...      \n",
      "Default          0.324794    0.263551     0.235253     0.216614    ...      \n",
      "\n",
      "              June_Bill  May_Bill  April_Bill  Sept_Paid  Aug_Paid  July_Paid  \\\n",
      "ID             0.040351  0.016705    0.016730   0.009742  0.008406   0.039151   \n",
      "LIMIT_BAL      0.293988  0.295562    0.290389   0.195236  0.178408   0.210167   \n",
      "SEX           -0.021880 -0.017005   -0.016733  -0.000242 -0.001391  -0.008597   \n",
      "EDUCATION     -0.000451 -0.007567   -0.009099  -0.037456 -0.030038  -0.039943   \n",
      "MARRIAGE      -0.023344 -0.025393   -0.021207  -0.005979 -0.008093  -0.003541   \n",
      "AGE            0.051353  0.049345    0.047613   0.026147  0.021785   0.029247   \n",
      "Sept_Status    0.179125  0.180635    0.176980  -0.079269 -0.070101  -0.070561   \n",
      "Aug_Status     0.222237  0.221348    0.219403  -0.080701 -0.058990  -0.055901   \n",
      "July_Status    0.227202  0.225145    0.222327   0.001295 -0.066793  -0.053311   \n",
      "June_Status    0.245917  0.242902    0.239154  -0.009362 -0.001944  -0.069235   \n",
      "May_Status     0.271915  0.269783    0.262509  -0.006089 -0.003191   0.009062   \n",
      "April_Status   0.266356  0.290894    0.285091  -0.001496 -0.005223   0.005834   \n",
      "Sept_Bill      0.860272  0.829779    0.802650   0.140277  0.099355   0.156887   \n",
      "Aug_Bill       0.892482  0.859778    0.831594   0.280365  0.100851   0.150718   \n",
      "July_Bill      0.923969  0.883910    0.853320   0.244335  0.316936   0.130011   \n",
      "June_Bill      1.000000  0.940134    0.900941   0.233012  0.207564   0.300023   \n",
      "May_Bill       0.940134  1.000000    0.946197   0.217031  0.181246   0.252305   \n",
      "April_Bill     0.900941  0.946197    1.000000   0.199965  0.172663   0.233770   \n",
      "Sept_Paid      0.233012  0.217031    0.199965   1.000000  0.285576   0.252191   \n",
      "Aug_Paid       0.207564  0.181246    0.172663   0.285576  1.000000   0.244770   \n",
      "July_Paid      0.300023  0.252305    0.233770   0.252191  0.244770   1.000000   \n",
      "June_Paid      0.130191  0.293118    0.250237   0.199558  0.180107   0.216325   \n",
      "May_Paid       0.160433  0.141574    0.307729   0.148459  0.180908   0.159214   \n",
      "April_Paid     0.177637  0.164184    0.115494   0.185735  0.157634   0.162740   \n",
      "Default       -0.010156 -0.006760   -0.005372  -0.072929 -0.058579  -0.056250   \n",
      "\n",
      "              June_Paid  May_Paid  April_Paid   Default  \n",
      "ID             0.007793  0.000652    0.003000 -0.013952  \n",
      "LIMIT_BAL      0.203242  0.217202    0.219595 -0.153520  \n",
      "SEX           -0.002229 -0.001667   -0.002766 -0.039961  \n",
      "EDUCATION     -0.038218 -0.040358   -0.037200  0.028006  \n",
      "MARRIAGE      -0.012659 -0.001205   -0.006641 -0.024339  \n",
      "AGE            0.021379  0.022850    0.019478  0.013890  \n",
      "Sept_Status   -0.064005 -0.058190   -0.058673  0.324794  \n",
      "Aug_Status    -0.046858 -0.037093   -0.036500  0.263551  \n",
      "July_Status   -0.046067 -0.035863   -0.035861  0.235253  \n",
      "June_Status   -0.043461 -0.033590   -0.026565  0.216614  \n",
      "May_Status    -0.058299 -0.033337   -0.023027  0.204149  \n",
      "April_Status   0.019018 -0.046434   -0.025299  0.186866  \n",
      "Sept_Bill      0.158303  0.167026    0.179341 -0.019644  \n",
      "Aug_Bill       0.147398  0.157957    0.174256 -0.014193  \n",
      "July_Bill      0.143405  0.179712    0.182326 -0.014076  \n",
      "June_Bill      0.130191  0.160433    0.177637 -0.010156  \n",
      "May_Bill       0.293118  0.141574    0.164184 -0.006760  \n",
      "April_Bill     0.250237  0.307729    0.115494 -0.005372  \n",
      "Sept_Paid      0.199558  0.148459    0.185735 -0.072929  \n",
      "Aug_Paid       0.180107  0.180908    0.157634 -0.058579  \n",
      "July_Paid      0.216325  0.159214    0.162740 -0.056250  \n",
      "June_Paid      1.000000  0.151830    0.157834 -0.056827  \n",
      "May_Paid       0.151830  1.000000    0.154896 -0.055124  \n",
      "April_Paid     0.157834  0.154896    1.000000 -0.053183  \n",
      "Default       -0.056827 -0.055124   -0.053183  1.000000  \n",
      "\n",
      "[25 rows x 25 columns]\n"
     ]
    }
   ],
   "source": [
    "# Correlation - investigate iloc http://pandas.pydata.org/pandas-docs/version/0.17.0/generated/pandas.DataFrame.iloc.html\n",
    "corrMat = creditInt.corr()\n",
    "print(corrMat)"
   ]
  },
  {
   "cell_type": "code",
   "execution_count": 77,
   "metadata": {},
   "outputs": [
    {
     "name": "stdout",
     "output_type": "stream",
     "text": [
      "                        ID     LIMIT_BAL          SEX     EDUCATION  \\\n",
      "ID            7.500250e+07  2.941664e+07    78.356379    268.154338   \n",
      "LIMIT_BAL     2.941664e+07  1.683446e+10  1571.050630 -22474.028945   \n",
      "SEX           7.835638e+01  1.571051e+03     0.239247      0.005502   \n",
      "EDUCATION     2.681543e+02 -2.247403e+04     0.005502      0.624651   \n",
      "MARRIAGE     -1.314525e+02 -7.323670e+03    -0.008014     -0.059184   \n",
      "AGE           1.491057e+03  1.730767e+05    -0.409726      1.275380   \n",
      "Sept_Status  -2.975726e+02 -3.954593e+04    -0.031685      0.093584   \n",
      "Aug_Status   -1.162770e+02 -4.603765e+04    -0.041442      0.115025   \n",
      "July_Status  -1.916922e+02 -4.443225e+04    -0.038694      0.107861   \n",
      "June_Status  -2.769132e+01 -4.057181e+04    -0.034411      0.100528   \n",
      "May_Status   -2.178600e+02 -3.667056e+04    -0.030521      0.087340   \n",
      "April_Status -2.018774e+02 -3.509308e+04    -0.024754      0.074816   \n",
      "Sept_Bill     1.236447e+07  2.727020e+09 -1211.694332   1372.377644   \n",
      "Aug_Bill      1.108392e+07  2.570130e+09 -1085.595467   1054.657595   \n",
      "July_Bill     1.462688e+07  2.548533e+09  -833.207432    712.664124   \n",
      "June_Bill     2.248126e+07  2.453926e+09  -688.489572    -22.948827   \n",
      "May_Bill      8.795803e+06  2.331481e+09  -505.694333   -363.577664   \n",
      "April_Bill    8.628506e+06  2.243837e+09  -487.430160   -428.274232   \n",
      "Sept_Paid     1.397501e+06  4.195711e+08    -1.964266   -490.330155   \n",
      "Aug_Paid      1.677383e+06  5.333504e+08   -15.675500   -547.005021   \n",
      "July_Paid     5.969803e+06  4.801180e+08   -74.034812   -555.834305   \n",
      "June_Paid     1.057334e+06  4.131202e+08   -17.080110   -473.206951   \n",
      "May_Paid      8.629502e+04  4.305657e+08   -12.458809   -487.335947   \n",
      "April_Paid    4.618460e+05  5.065153e+08   -24.051885   -522.673379   \n",
      "Default      -5.015171e+01 -8.267552e+03    -0.008113      0.009187   \n",
      "\n",
      "                 MARRIAGE            AGE   Sept_Status    Aug_Status  \\\n",
      "ID            -131.452515    1491.057019   -297.572636   -116.276959   \n",
      "LIMIT_BAL    -7323.669658  173076.722569 -39545.930009 -46037.648360   \n",
      "SEX             -0.008014      -0.409726     -0.031685     -0.041442   \n",
      "EDUCATION       -0.059184       1.275380      0.093584      0.115025   \n",
      "MARRIAGE         0.272452      -1.992764      0.011683      0.015122   \n",
      "AGE             -1.992764      84.969755     -0.408639     -0.553408   \n",
      "Sept_Status      0.011683      -0.408639      1.262930      0.904330   \n",
      "Aug_Status       0.015122      -0.553408      0.904330      1.433254   \n",
      "July_Status      0.020421      -0.585263      0.772384      1.098371   \n",
      "June_Status      0.020213      -0.535851      0.707972      0.926680   \n",
      "May_Status       0.021074      -0.562245      0.648743      0.844886   \n",
      "April_Status     0.020616      -0.517022      0.613292      0.792320   \n",
      "Sept_Bill     -902.154685   38172.933546  15480.304170  20706.614217   \n",
      "Aug_Bill      -802.517866   35613.657962  15185.916919  20045.829482   \n",
      "July_Bill     -901.679085   34334.251320  14011.556537  18609.510991   \n",
      "June_Bill     -783.881599   30453.108180  12950.248389  17116.298983   \n",
      "May_Bill      -805.840875   27654.067800  12341.668685  16110.952468   \n",
      "April_Bill    -659.223347   26137.648547  11844.759724  15642.875812   \n",
      "Sept_Paid      -51.691615    3992.041735  -1475.495089  -1600.240756   \n",
      "Aug_Paid       -97.327974    4626.861549  -1815.138407  -1627.192336   \n",
      "July_Paid      -32.546082    4746.824393  -1396.168258  -1178.331282   \n",
      "June_Paid     -103.518204    3087.324192  -1126.847945   -878.843879   \n",
      "May_Paid        -9.607709    3218.052172   -999.107730   -678.468530   \n",
      "April_Paid     -61.623271    3191.903901  -1172.193614   -776.835035   \n",
      "Default         -0.005273       0.053143      0.151499      0.130960   \n",
      "\n",
      "               July_Status   June_Status     ...          June_Bill  \\\n",
      "ID             -191.692156    -27.691323     ...       2.248126e+07   \n",
      "LIMIT_BAL    -44432.253315 -40571.811859     ...       2.453926e+09   \n",
      "SEX              -0.038694     -0.034411     ...      -6.884896e+02   \n",
      "EDUCATION         0.107861      0.100528     ...      -2.294883e+01   \n",
      "MARRIAGE          0.020421      0.020213     ...      -7.838816e+02   \n",
      "AGE              -0.585263     -0.535851     ...       3.045311e+04   \n",
      "Sept_Status       0.772384      0.707972     ...       1.295025e+04   \n",
      "Aug_Status        1.098371      0.926680     ...       1.711630e+04   \n",
      "July_Status       1.432492      1.087761     ...       1.749410e+04   \n",
      "June_Status       1.087761      1.366885     ...       1.849642e+04   \n",
      "May_Status        0.931455      1.086161     ...       1.982293e+04   \n",
      "April_Status      0.870815      0.963263     ...       1.970555e+04   \n",
      "Sept_Bill     18373.210469  17460.198259     ...       4.075286e+09   \n",
      "Aug_Bill      20214.071495  18790.627741     ...       4.086508e+09   \n",
      "July_Bill     18882.491544  19862.999426     ...       4.122238e+09   \n",
      "June_Bill     17494.100555  18496.423186     ...       4.138716e+09   \n",
      "May_Bill      16382.947539  17265.551898     ...       3.677105e+09   \n",
      "April_Bill    15847.089648  16651.586314     ...       3.451762e+09   \n",
      "Sept_Paid        25.668468   -181.295613     ...       2.482888e+08   \n",
      "Aug_Paid      -1841.952825    -52.358166     ...       3.076686e+08   \n",
      "July_Paid     -1123.428782  -1425.205189     ...       3.398374e+08   \n",
      "June_Paid      -863.762183   -796.035739     ...       1.312133e+08   \n",
      "May_Paid       -655.796002   -599.991629     ...       1.576892e+08   \n",
      "April_Paid     -763.026041   -552.137338     ...       2.031590e+08   \n",
      "Default           0.116867      0.105115     ...      -2.711999e+02   \n",
      "\n",
      "                  May_Bill    April_Bill     Sept_Paid      Aug_Paid  \\\n",
      "ID            8.795803e+06  8.628506e+06  1.397501e+06  1.677383e+06   \n",
      "LIMIT_BAL     2.331481e+09  2.243837e+09  4.195711e+08  5.333504e+08   \n",
      "SEX          -5.056943e+02 -4.874302e+02 -1.964266e+00 -1.567550e+01   \n",
      "EDUCATION    -3.635777e+02 -4.282742e+02 -4.903302e+02 -5.470050e+02   \n",
      "MARRIAGE     -8.058409e+02 -6.592233e+02 -5.169161e+01 -9.732797e+01   \n",
      "AGE           2.765407e+04  2.613765e+04  3.992042e+03  4.626862e+03   \n",
      "Sept_Status   1.234167e+04  1.184476e+04 -1.475495e+03 -1.815138e+03   \n",
      "Aug_Status    1.611095e+04  1.564288e+04 -1.600241e+03 -1.627192e+03   \n",
      "July_Status   1.638295e+04  1.584709e+04  2.566847e+01 -1.841953e+03   \n",
      "June_Status   1.726555e+04  1.665159e+04 -1.812956e+02 -5.235817e+01   \n",
      "May_Status    1.858659e+04  1.771569e+04 -1.142817e+02 -8.332449e+01   \n",
      "April_Status  2.033812e+04  1.952488e+04 -2.850067e+01 -1.383995e+02   \n",
      "Sept_Bill     3.714795e+09  3.519876e+09  1.710894e+08  1.685692e+08   \n",
      "Aug_Bill      3.720401e+09  3.524868e+09  3.305146e+08  1.653859e+08   \n",
      "July_Bill     3.726780e+09  3.524247e+09  2.806565e+08  5.064226e+08   \n",
      "June_Bill     3.677105e+09  3.451762e+09  2.482888e+08  3.076686e+08   \n",
      "May_Bill      3.696294e+09  3.425914e+09  2.185501e+08  2.538936e+08   \n",
      "April_Bill    3.425914e+09  3.546692e+09  1.972478e+08  2.369244e+08   \n",
      "Sept_Paid     2.185501e+08  1.972478e+08  2.743423e+08  1.089849e+08   \n",
      "Aug_Paid      2.538936e+08  2.369244e+08  1.089849e+08  5.308817e+08   \n",
      "July_Paid     2.700805e+08  2.451233e+08  7.354626e+07  9.929841e+07   \n",
      "June_Paid     2.791830e+08  2.334670e+08  5.178189e+07  6.501168e+07   \n",
      "May_Paid      1.315051e+08  2.799982e+08  3.756893e+07  6.368414e+07   \n",
      "April_Paid    1.774537e+08  1.222761e+08  5.469033e+07  6.456816e+07   \n",
      "Default      -1.705974e+02 -1.327963e+02 -5.013746e+02 -5.602107e+02   \n",
      "\n",
      "                 July_Paid     June_Paid      May_Paid    April_Paid  \\\n",
      "ID            5.969803e+06  1.057334e+06  8.629502e+04  4.618460e+05   \n",
      "LIMIT_BAL     4.801180e+08  4.131202e+08  4.305657e+08  5.065153e+08   \n",
      "SEX          -7.403481e+01 -1.708011e+01 -1.245881e+01 -2.405188e+01   \n",
      "EDUCATION    -5.558343e+02 -4.732070e+02 -4.873359e+02 -5.226734e+02   \n",
      "MARRIAGE     -3.254608e+01 -1.035182e+02 -9.607709e+00 -6.162327e+01   \n",
      "AGE           4.746824e+03  3.087324e+03  3.218052e+03  3.191904e+03   \n",
      "Sept_Status  -1.396168e+03 -1.126848e+03 -9.991077e+02 -1.172194e+03   \n",
      "Aug_Status   -1.178331e+03 -8.788439e+02 -6.784685e+02 -7.768350e+02   \n",
      "July_Status  -1.123429e+03 -8.637622e+02 -6.557960e+02 -7.630260e+02   \n",
      "June_Status  -1.425205e+03 -7.960357e+02 -5.999916e+02 -5.521373e+02   \n",
      "May_Status    1.808121e+02 -1.034962e+03 -5.771610e+02 -4.638926e+02   \n",
      "April_Status  1.181210e+02  3.426237e+02 -8.158327e+02 -5.172163e+02   \n",
      "Sept_Bill     2.034048e+08  1.826164e+08  1.879091e+08  2.347681e+08   \n",
      "Aug_Bill      1.888731e+08  1.643518e+08  1.717652e+08  2.204845e+08   \n",
      "July_Bill     1.587478e+08  1.558003e+08  1.904126e+08  2.247817e+08   \n",
      "June_Bill     3.398374e+08  1.312133e+08  1.576892e+08  2.031590e+08   \n",
      "May_Bill      2.700805e+08  2.791830e+08  1.315051e+08  1.774537e+08   \n",
      "April_Bill    2.451233e+08  2.334670e+08  2.799982e+08  1.222761e+08   \n",
      "Sept_Paid     7.354626e+07  5.178189e+07  3.756893e+07  5.469033e+07   \n",
      "Aug_Paid      9.929841e+07  6.501168e+07  6.368414e+07  6.456816e+07   \n",
      "July_Paid     3.100051e+08  5.966970e+07  4.282921e+07  5.093879e+07   \n",
      "June_Paid     5.966970e+07  2.454286e+08  3.634098e+07  4.395747e+07   \n",
      "May_Paid      4.282921e+07  3.634098e+07  2.334266e+08  4.207110e+07   \n",
      "April_Paid    5.093879e+07  4.395747e+07  4.207110e+07  3.160383e+08   \n",
      "Default      -4.110763e+02 -3.695159e+02 -3.495625e+02 -3.924264e+02   \n",
      "\n",
      "                  Default  \n",
      "ID             -50.151705  \n",
      "LIMIT_BAL    -8267.551759  \n",
      "SEX             -0.008113  \n",
      "EDUCATION        0.009187  \n",
      "MARRIAGE        -0.005273  \n",
      "AGE              0.053143  \n",
      "Sept_Status      0.151499  \n",
      "Aug_Status       0.130960  \n",
      "July_Status      0.116867  \n",
      "June_Status      0.105115  \n",
      "May_Status       0.096020  \n",
      "April_Status     0.089194  \n",
      "Sept_Bill     -600.394108  \n",
      "Aug_Bill      -419.289137  \n",
      "July_Bill     -405.153680  \n",
      "June_Bill     -271.199885  \n",
      "May_Bill      -170.597447  \n",
      "April_Bill    -132.796294  \n",
      "Sept_Paid     -501.374552  \n",
      "Aug_Paid      -560.210740  \n",
      "July_Paid     -411.076284  \n",
      "June_Paid     -369.515887  \n",
      "May_Paid      -349.562530  \n",
      "April_Paid    -392.426415  \n",
      "Default          0.172276  \n",
      "\n",
      "[25 rows x 25 columns]\n"
     ]
    }
   ],
   "source": [
    "# Covariance\n",
    "covMat = creditInt.cov()\n",
    "print(covMat)"
   ]
  },
  {
   "cell_type": "code",
   "execution_count": 78,
   "metadata": {},
   "outputs": [],
   "source": [
    "# Dora https://github.com/NathanEpstein/Dora \n",
    "# use Dora\n",
    "# from Dora import Dora\n",
    "# dora = Dora()\n",
    "# dora.configure(output = 'A', data = 'C:\\\\Users\\\\amare\\\\Documents\\\\U Texas Austin Data Science\\\\Course 52\\\\CC_Default.csv')\n",
    "# dora.data"
   ]
  },
  {
   "cell_type": "code",
   "execution_count": 82,
   "metadata": {},
   "outputs": [
    {
     "data": {
      "image/png": "[encoded data removed]",
      "text/plain": [
       "<matplotlib.figure.Figure at 0x1a1c2c4b70>"
      ]
     },
     "metadata": {},
     "output_type": "display_data"
    }
   ],
   "source": [
    "# Create Heat Map\n",
    "# corr_credit = df_credit.corr()\n",
    "# print(corr_credit.head(1))\n",
    "# corr_credit.to_csv('corr.csv')\n",
    "\n",
    "#print correlation map\n",
    "cmap = sns.diverging_palette(200, 15, as_cmap=True)\n",
    "sns.heatmap(corrMat,\n",
    "            xticklabels=corrMat.columns.values,\n",
    "            yticklabels=corrMat.columns.values,\n",
    "            cmap=cmap)\n",
    "plt.plot()\n",
    "plt.title('Correlation Heatmap')\n",
    "plt.show()"
   ]
  },
  {
   "cell_type": "code",
   "execution_count": 80,
   "metadata": {},
   "outputs": [
    {
     "ename": "NameError",
     "evalue": "name 'df_credit' is not defined",
     "output_type": "error",
     "traceback": [
      "\u001b[0;31m---------------------------------------------------------------------------\u001b[0m",
      "\u001b[0;31mNameError\u001b[0m                                 Traceback (most recent call last)",
      "\u001b[0;32m<ipython-input-80-4b7fb4cb7430>\u001b[0m in \u001b[0;36m<module>\u001b[0;34m()\u001b[0m\n\u001b[0;32m----> 1\u001b[0;31m \u001b[0mcov_credit\u001b[0m \u001b[0;34m=\u001b[0m \u001b[0mdf_credit\u001b[0m\u001b[0;34m.\u001b[0m\u001b[0mcov\u001b[0m\u001b[0;34m(\u001b[0m\u001b[0;34m)\u001b[0m\u001b[0;34m\u001b[0m\u001b[0m\n\u001b[0m\u001b[1;32m      2\u001b[0m \u001b[0;31m#cov_credit.to_csv('cov.csv')\u001b[0m\u001b[0;34m\u001b[0m\u001b[0;34m\u001b[0m\u001b[0m\n\u001b[1;32m      3\u001b[0m \u001b[0;34m\u001b[0m\u001b[0m\n\u001b[1;32m      4\u001b[0m \u001b[0;31m# check correlation to dependent variable\u001b[0m\u001b[0;34m\u001b[0m\u001b[0;34m\u001b[0m\u001b[0m\n\u001b[1;32m      5\u001b[0m \u001b[0my_corr\u001b[0m \u001b[0;34m=\u001b[0m \u001b[0mpd\u001b[0m\u001b[0;34m.\u001b[0m\u001b[0mDataFrame\u001b[0m\u001b[0;34m(\u001b[0m\u001b[0mcorr_credit\u001b[0m\u001b[0;34m[\u001b[0m\u001b[0;34m'default payment next month'\u001b[0m\u001b[0;34m]\u001b[0m\u001b[0;34m)\u001b[0m\u001b[0;34m\u001b[0m\u001b[0m\n",
      "\u001b[0;31mNameError\u001b[0m: name 'df_credit' is not defined"
     ]
    }
   ],
   "source": [
    "cov_credit = creditInt.cov()\n",
    "#cov_credit.to_csv('cov.csv')\n",
    "\n",
    "# check correlation to dependent variable\n",
    "y_corr = pd.DataFrame(corr_credit['default payment next month'])\n",
    "y_corr = y_corr.sort_values(by='default payment next month' ,ascending = False)\n",
    "print(y_corr)"
   ]
  },
  {
   "cell_type": "code",
   "execution_count": null,
   "metadata": {},
   "outputs": [],
   "source": []
  }
 ],
 "metadata": {
  "kernelspec": {
   "display_name": "Python 3",
   "language": "python",
   "name": "python3"
  },
  "language_info": {
   "codemirror_mode": {
    "name": "ipython",
    "version": 3
   },
   "file_extension": ".py",
   "mimetype": "text/x-python",
   "name": "python",
   "nbconvert_exporter": "python",
   "pygments_lexer": "ipython3",
   "version": "3.6.4"
  }
 },
 "nbformat": 4,
 "nbformat_minor": 2
}
